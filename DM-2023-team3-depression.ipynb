{
 "cells": [
  {
   "cell_type": "markdown",
   "id": "19d023f0",
   "metadata": {},
   "source": [
    "# 2023 DataMining Team3"
   ]
  },
  {
   "cell_type": "markdown",
   "id": "7201a7bd",
   "metadata": {},
   "source": [
    "## 우울팀"
   ]
  },
  {
   "cell_type": "markdown",
   "id": "f7ec9119",
   "metadata": {},
   "source": [
    "### 1. Import Library"
   ]
  },
  {
   "cell_type": "code",
   "execution_count": 26,
   "id": "185fba43",
   "metadata": {},
   "outputs": [],
   "source": [
    "import pandas as pd"
   ]
  },
  {
   "cell_type": "markdown",
   "id": "ee65cf37",
   "metadata": {},
   "source": [
    "### 2. Data preprocessing"
   ]
  },
  {
   "cell_type": "markdown",
   "id": "b1861211",
   "metadata": {},
   "source": [
    "#### 데이터 불러오기"
   ]
  },
  {
   "cell_type": "code",
   "execution_count": 27,
   "id": "914688ae",
   "metadata": {},
   "outputs": [
    {
     "name": "stderr",
     "output_type": "stream",
     "text": [
      "/Users/subinpark/opt/anaconda3/lib/python3.9/site-packages/IPython/core/interactiveshell.py:3444: DtypeWarning: Columns (146,209,220,274,283,318,339,355,436,555,570,572,587,647) have mixed types.Specify dtype option on import or set low_memory=False.\n",
      "  exec(code_obj, self.user_global_ns, self.user_ns)\n"
     ]
    }
   ],
   "source": [
    "csv_all = pd.read_csv(\"data/hn18_all.csv\")\n",
    "csv_description = pd.read_csv(\"description/hn18_all_description.csv\")"
   ]
  },
  {
   "cell_type": "code",
   "execution_count": 28,
   "id": "1bb5a017",
   "metadata": {},
   "outputs": [
    {
     "data": {
      "text/plain": "            mod_d          ID    ID_fam  year  region  town_t  apt_t   psu  \\\n0     2023.01.13.  A701020501  A7010205  2018       1       1      2  A701   \n1     2023.01.13.  A701021301  A7010213  2018       1       1      2  A701   \n2     2023.01.13.  A701021302  A7010213  2018       1       1      2  A701   \n3     2023.01.13.  A701022601  A7010226  2018       1       1      2  A701   \n4     2023.01.13.  A701023303  A7010233  2018       1       1      2  A701   \n...           ...         ...       ...   ...     ...     ...    ...   ...   \n7987  2023.01.13.  R708028902  R7080289  2018       8       1      2  R708   \n7988  2023.01.13.  R708029201  R7080292  2018       8       1      2  R708   \n7989  2023.01.13.  R708029202  R7080292  2018       8       1      2  R708   \n7990  2023.01.13.  R708029203  R7080292  2018       8       1      2  R708   \n7991  2023.01.13.  R708029204  R7080292  2018       8       1      2  R708   \n\n      sex  age  ...  HEI_TVEG   HEI_VEG  HEI_PROTF  HEI_DAIRY    HEI_SFA  \\\n0       1   80  ...  1.367163  0.775022   5.800000       0.00   5.273475   \n1       1   78  ...  4.881043  1.641812  10.000000      10.00  10.000000   \n2       2   75  ...  3.367648  4.943629   4.849725      10.00   0.000000   \n3       2   43  ...       NaN       NaN        NaN        NaN        NaN   \n4       2   80  ...  4.619405  0.437024   1.951565       0.00  10.000000   \n...   ...  ...  ...       ...       ...        ...        ...        ...   \n7987    2   73  ...  5.000000  3.460232   2.940008       7.28   6.332807   \n7988    1   43  ...  5.000000  5.000000  10.000000       0.00   0.000000   \n7989    2   39  ...  5.000000  5.000000  10.000000       0.00   0.000000   \n7990    1   10  ...       NaN       NaN        NaN        NaN        NaN   \n7991    2    8  ...       NaN       NaN        NaN        NaN        NaN   \n\n         HEI_NA  HEI_SWEET   HEI_CHO   HEI_FAT    HEI_EN  \n0     10.000000   10.00000  5.000000  5.000000  0.000000  \n1      3.418798   10.00000  4.345249  2.956568  5.000000  \n2      9.806158   10.00000  5.000000  5.000000  5.000000  \n3           NaN        NaN       NaN       NaN       NaN  \n4      8.029505   10.00000  0.000000  0.000000  1.244134  \n...         ...        ...       ...       ...       ...  \n7987  10.000000    7.98486  2.797653  5.000000  0.000000  \n7988   2.017411   10.00000  0.000000  0.000000  0.000000  \n7989   5.828002   10.00000  0.000000  0.000000  1.288707  \n7990        NaN        NaN       NaN       NaN       NaN  \n7991        NaN        NaN       NaN       NaN       NaN  \n\n[7992 rows x 815 columns]",
      "text/html": "<div>\n<style scoped>\n    .dataframe tbody tr th:only-of-type {\n        vertical-align: middle;\n    }\n\n    .dataframe tbody tr th {\n        vertical-align: top;\n    }\n\n    .dataframe thead th {\n        text-align: right;\n    }\n</style>\n<table border=\"1\" class=\"dataframe\">\n  <thead>\n    <tr style=\"text-align: right;\">\n      <th></th>\n      <th>mod_d</th>\n      <th>ID</th>\n      <th>ID_fam</th>\n      <th>year</th>\n      <th>region</th>\n      <th>town_t</th>\n      <th>apt_t</th>\n      <th>psu</th>\n      <th>sex</th>\n      <th>age</th>\n      <th>...</th>\n      <th>HEI_TVEG</th>\n      <th>HEI_VEG</th>\n      <th>HEI_PROTF</th>\n      <th>HEI_DAIRY</th>\n      <th>HEI_SFA</th>\n      <th>HEI_NA</th>\n      <th>HEI_SWEET</th>\n      <th>HEI_CHO</th>\n      <th>HEI_FAT</th>\n      <th>HEI_EN</th>\n    </tr>\n  </thead>\n  <tbody>\n    <tr>\n      <th>0</th>\n      <td>2023.01.13.</td>\n      <td>A701020501</td>\n      <td>A7010205</td>\n      <td>2018</td>\n      <td>1</td>\n      <td>1</td>\n      <td>2</td>\n      <td>A701</td>\n      <td>1</td>\n      <td>80</td>\n      <td>...</td>\n      <td>1.367163</td>\n      <td>0.775022</td>\n      <td>5.800000</td>\n      <td>0.00</td>\n      <td>5.273475</td>\n      <td>10.000000</td>\n      <td>10.00000</td>\n      <td>5.000000</td>\n      <td>5.000000</td>\n      <td>0.000000</td>\n    </tr>\n    <tr>\n      <th>1</th>\n      <td>2023.01.13.</td>\n      <td>A701021301</td>\n      <td>A7010213</td>\n      <td>2018</td>\n      <td>1</td>\n      <td>1</td>\n      <td>2</td>\n      <td>A701</td>\n      <td>1</td>\n      <td>78</td>\n      <td>...</td>\n      <td>4.881043</td>\n      <td>1.641812</td>\n      <td>10.000000</td>\n      <td>10.00</td>\n      <td>10.000000</td>\n      <td>3.418798</td>\n      <td>10.00000</td>\n      <td>4.345249</td>\n      <td>2.956568</td>\n      <td>5.000000</td>\n    </tr>\n    <tr>\n      <th>2</th>\n      <td>2023.01.13.</td>\n      <td>A701021302</td>\n      <td>A7010213</td>\n      <td>2018</td>\n      <td>1</td>\n      <td>1</td>\n      <td>2</td>\n      <td>A701</td>\n      <td>2</td>\n      <td>75</td>\n      <td>...</td>\n      <td>3.367648</td>\n      <td>4.943629</td>\n      <td>4.849725</td>\n      <td>10.00</td>\n      <td>0.000000</td>\n      <td>9.806158</td>\n      <td>10.00000</td>\n      <td>5.000000</td>\n      <td>5.000000</td>\n      <td>5.000000</td>\n    </tr>\n    <tr>\n      <th>3</th>\n      <td>2023.01.13.</td>\n      <td>A701022601</td>\n      <td>A7010226</td>\n      <td>2018</td>\n      <td>1</td>\n      <td>1</td>\n      <td>2</td>\n      <td>A701</td>\n      <td>2</td>\n      <td>43</td>\n      <td>...</td>\n      <td>NaN</td>\n      <td>NaN</td>\n      <td>NaN</td>\n      <td>NaN</td>\n      <td>NaN</td>\n      <td>NaN</td>\n      <td>NaN</td>\n      <td>NaN</td>\n      <td>NaN</td>\n      <td>NaN</td>\n    </tr>\n    <tr>\n      <th>4</th>\n      <td>2023.01.13.</td>\n      <td>A701023303</td>\n      <td>A7010233</td>\n      <td>2018</td>\n      <td>1</td>\n      <td>1</td>\n      <td>2</td>\n      <td>A701</td>\n      <td>2</td>\n      <td>80</td>\n      <td>...</td>\n      <td>4.619405</td>\n      <td>0.437024</td>\n      <td>1.951565</td>\n      <td>0.00</td>\n      <td>10.000000</td>\n      <td>8.029505</td>\n      <td>10.00000</td>\n      <td>0.000000</td>\n      <td>0.000000</td>\n      <td>1.244134</td>\n    </tr>\n    <tr>\n      <th>...</th>\n      <td>...</td>\n      <td>...</td>\n      <td>...</td>\n      <td>...</td>\n      <td>...</td>\n      <td>...</td>\n      <td>...</td>\n      <td>...</td>\n      <td>...</td>\n      <td>...</td>\n      <td>...</td>\n      <td>...</td>\n      <td>...</td>\n      <td>...</td>\n      <td>...</td>\n      <td>...</td>\n      <td>...</td>\n      <td>...</td>\n      <td>...</td>\n      <td>...</td>\n      <td>...</td>\n    </tr>\n    <tr>\n      <th>7987</th>\n      <td>2023.01.13.</td>\n      <td>R708028902</td>\n      <td>R7080289</td>\n      <td>2018</td>\n      <td>8</td>\n      <td>1</td>\n      <td>2</td>\n      <td>R708</td>\n      <td>2</td>\n      <td>73</td>\n      <td>...</td>\n      <td>5.000000</td>\n      <td>3.460232</td>\n      <td>2.940008</td>\n      <td>7.28</td>\n      <td>6.332807</td>\n      <td>10.000000</td>\n      <td>7.98486</td>\n      <td>2.797653</td>\n      <td>5.000000</td>\n      <td>0.000000</td>\n    </tr>\n    <tr>\n      <th>7988</th>\n      <td>2023.01.13.</td>\n      <td>R708029201</td>\n      <td>R7080292</td>\n      <td>2018</td>\n      <td>8</td>\n      <td>1</td>\n      <td>2</td>\n      <td>R708</td>\n      <td>1</td>\n      <td>43</td>\n      <td>...</td>\n      <td>5.000000</td>\n      <td>5.000000</td>\n      <td>10.000000</td>\n      <td>0.00</td>\n      <td>0.000000</td>\n      <td>2.017411</td>\n      <td>10.00000</td>\n      <td>0.000000</td>\n      <td>0.000000</td>\n      <td>0.000000</td>\n    </tr>\n    <tr>\n      <th>7989</th>\n      <td>2023.01.13.</td>\n      <td>R708029202</td>\n      <td>R7080292</td>\n      <td>2018</td>\n      <td>8</td>\n      <td>1</td>\n      <td>2</td>\n      <td>R708</td>\n      <td>2</td>\n      <td>39</td>\n      <td>...</td>\n      <td>5.000000</td>\n      <td>5.000000</td>\n      <td>10.000000</td>\n      <td>0.00</td>\n      <td>0.000000</td>\n      <td>5.828002</td>\n      <td>10.00000</td>\n      <td>0.000000</td>\n      <td>0.000000</td>\n      <td>1.288707</td>\n    </tr>\n    <tr>\n      <th>7990</th>\n      <td>2023.01.13.</td>\n      <td>R708029203</td>\n      <td>R7080292</td>\n      <td>2018</td>\n      <td>8</td>\n      <td>1</td>\n      <td>2</td>\n      <td>R708</td>\n      <td>1</td>\n      <td>10</td>\n      <td>...</td>\n      <td>NaN</td>\n      <td>NaN</td>\n      <td>NaN</td>\n      <td>NaN</td>\n      <td>NaN</td>\n      <td>NaN</td>\n      <td>NaN</td>\n      <td>NaN</td>\n      <td>NaN</td>\n      <td>NaN</td>\n    </tr>\n    <tr>\n      <th>7991</th>\n      <td>2023.01.13.</td>\n      <td>R708029204</td>\n      <td>R7080292</td>\n      <td>2018</td>\n      <td>8</td>\n      <td>1</td>\n      <td>2</td>\n      <td>R708</td>\n      <td>2</td>\n      <td>8</td>\n      <td>...</td>\n      <td>NaN</td>\n      <td>NaN</td>\n      <td>NaN</td>\n      <td>NaN</td>\n      <td>NaN</td>\n      <td>NaN</td>\n      <td>NaN</td>\n      <td>NaN</td>\n      <td>NaN</td>\n      <td>NaN</td>\n    </tr>\n  </tbody>\n</table>\n<p>7992 rows × 815 columns</p>\n</div>"
     },
     "execution_count": 28,
     "metadata": {},
     "output_type": "execute_result"
    }
   ],
   "source": [
    "csv_all"
   ]
  },
  {
   "cell_type": "code",
   "execution_count": 29,
   "id": "a2b590ab",
   "metadata": {},
   "outputs": [
    {
     "data": {
      "text/plain": "           변수명                 변수설명                                내용  \\\n0           ID               개인 아이디                               NaN   \n1          sex                   성별                       1. 남자 2. 여자   \n2          age                만나이1)  1~79. 1~79세 80. 80세이상 (2자리수 int)   \n3     mh_PHQ_S        (성인) PHQ-9 점수         우울증선별도구 9항목(문항3-1~9) 점수 합   \n4       HE_sbp  최종 수축기 혈압(2,3차 평균)                  (3자리수, mmHg, int)   \n5       HE_dbp   최종 이완기 혈압(2,3차 평균)                 (3자리수, mmHg, int)   \n6        HE_ht                   신장                          □□□.□ cm   \n7        HE_wt                   체중                         □□□.□ kg    \n8       HE_BMI          체질량지수 (BMI)                       □□□.□ kg/m2   \n9   GS_mea_r_1          1차 악력측정_오른손                          □□.□ kg    \n10  GS_mea_r_2         2차 악력측정_오른손                           □□.□ kg    \n11  GS_mea_r_3         3차 악력측정_오른손                           □□.□ kg    \n12  GS_mea_l_1           1차 악력측정_왼손                          □□.□ kg    \n13  GS_mea_l_2           2차 악력측정_왼손                          □□.□ kg    \n14  GS_mea_l_3           3차 악력측정_왼손                          □□.□ kg    \n\n   필요한가? (Y/N/Not Sure)      type     단위 비고  \n0                     Y   Nominal      -  V  \n1                     Y   Nominal      -  V  \n2                     Y     Ratio      세  V  \n3                     Y  Interval    NaN  V  \n4                     Y     Ratio   mmHg  V  \n5                     Y     Ratio   mmHg  V  \n6                     Y     Ratio     cm  V  \n7                     Y     Ratio     kg  V  \n8                     Y     Ratio  kg/m2  V  \n9                     Y     Ratio     kg  V  \n10                    Y     Ratio     kg  V  \n11                    Y     Ratio     kg  V  \n12                    Y     Ratio     kg  V  \n13                    Y     Ratio     kg  V  \n14                    Y     Ratio     kg  V  ",
      "text/html": "<div>\n<style scoped>\n    .dataframe tbody tr th:only-of-type {\n        vertical-align: middle;\n    }\n\n    .dataframe tbody tr th {\n        vertical-align: top;\n    }\n\n    .dataframe thead th {\n        text-align: right;\n    }\n</style>\n<table border=\"1\" class=\"dataframe\">\n  <thead>\n    <tr style=\"text-align: right;\">\n      <th></th>\n      <th>변수명</th>\n      <th>변수설명</th>\n      <th>내용</th>\n      <th>필요한가? (Y/N/Not Sure)</th>\n      <th>type</th>\n      <th>단위</th>\n      <th>비고</th>\n    </tr>\n  </thead>\n  <tbody>\n    <tr>\n      <th>0</th>\n      <td>ID</td>\n      <td>개인 아이디</td>\n      <td>NaN</td>\n      <td>Y</td>\n      <td>Nominal</td>\n      <td>-</td>\n      <td>V</td>\n    </tr>\n    <tr>\n      <th>1</th>\n      <td>sex</td>\n      <td>성별</td>\n      <td>1. 남자 2. 여자</td>\n      <td>Y</td>\n      <td>Nominal</td>\n      <td>-</td>\n      <td>V</td>\n    </tr>\n    <tr>\n      <th>2</th>\n      <td>age</td>\n      <td>만나이1)</td>\n      <td>1~79. 1~79세 80. 80세이상 (2자리수 int)</td>\n      <td>Y</td>\n      <td>Ratio</td>\n      <td>세</td>\n      <td>V</td>\n    </tr>\n    <tr>\n      <th>3</th>\n      <td>mh_PHQ_S</td>\n      <td>(성인) PHQ-9 점수</td>\n      <td>우울증선별도구 9항목(문항3-1~9) 점수 합</td>\n      <td>Y</td>\n      <td>Interval</td>\n      <td>NaN</td>\n      <td>V</td>\n    </tr>\n    <tr>\n      <th>4</th>\n      <td>HE_sbp</td>\n      <td>최종 수축기 혈압(2,3차 평균)</td>\n      <td>(3자리수, mmHg, int)</td>\n      <td>Y</td>\n      <td>Ratio</td>\n      <td>mmHg</td>\n      <td>V</td>\n    </tr>\n    <tr>\n      <th>5</th>\n      <td>HE_dbp</td>\n      <td>최종 이완기 혈압(2,3차 평균)</td>\n      <td>(3자리수, mmHg, int)</td>\n      <td>Y</td>\n      <td>Ratio</td>\n      <td>mmHg</td>\n      <td>V</td>\n    </tr>\n    <tr>\n      <th>6</th>\n      <td>HE_ht</td>\n      <td>신장</td>\n      <td>□□□.□ cm</td>\n      <td>Y</td>\n      <td>Ratio</td>\n      <td>cm</td>\n      <td>V</td>\n    </tr>\n    <tr>\n      <th>7</th>\n      <td>HE_wt</td>\n      <td>체중</td>\n      <td>□□□.□ kg</td>\n      <td>Y</td>\n      <td>Ratio</td>\n      <td>kg</td>\n      <td>V</td>\n    </tr>\n    <tr>\n      <th>8</th>\n      <td>HE_BMI</td>\n      <td>체질량지수 (BMI)</td>\n      <td>□□□.□ kg/m2</td>\n      <td>Y</td>\n      <td>Ratio</td>\n      <td>kg/m2</td>\n      <td>V</td>\n    </tr>\n    <tr>\n      <th>9</th>\n      <td>GS_mea_r_1</td>\n      <td>1차 악력측정_오른손</td>\n      <td>□□.□ kg</td>\n      <td>Y</td>\n      <td>Ratio</td>\n      <td>kg</td>\n      <td>V</td>\n    </tr>\n    <tr>\n      <th>10</th>\n      <td>GS_mea_r_2</td>\n      <td>2차 악력측정_오른손</td>\n      <td>□□.□ kg</td>\n      <td>Y</td>\n      <td>Ratio</td>\n      <td>kg</td>\n      <td>V</td>\n    </tr>\n    <tr>\n      <th>11</th>\n      <td>GS_mea_r_3</td>\n      <td>3차 악력측정_오른손</td>\n      <td>□□.□ kg</td>\n      <td>Y</td>\n      <td>Ratio</td>\n      <td>kg</td>\n      <td>V</td>\n    </tr>\n    <tr>\n      <th>12</th>\n      <td>GS_mea_l_1</td>\n      <td>1차 악력측정_왼손</td>\n      <td>□□.□ kg</td>\n      <td>Y</td>\n      <td>Ratio</td>\n      <td>kg</td>\n      <td>V</td>\n    </tr>\n    <tr>\n      <th>13</th>\n      <td>GS_mea_l_2</td>\n      <td>2차 악력측정_왼손</td>\n      <td>□□.□ kg</td>\n      <td>Y</td>\n      <td>Ratio</td>\n      <td>kg</td>\n      <td>V</td>\n    </tr>\n    <tr>\n      <th>14</th>\n      <td>GS_mea_l_3</td>\n      <td>3차 악력측정_왼손</td>\n      <td>□□.□ kg</td>\n      <td>Y</td>\n      <td>Ratio</td>\n      <td>kg</td>\n      <td>V</td>\n    </tr>\n  </tbody>\n</table>\n</div>"
     },
     "execution_count": 29,
     "metadata": {},
     "output_type": "execute_result"
    }
   ],
   "source": [
    "csv_description"
   ]
  },
  {
   "cell_type": "code",
   "execution_count": 30,
   "id": "5d9b216f",
   "metadata": {},
   "outputs": [
    {
     "data": {
      "text/plain": "(7992, 815)"
     },
     "execution_count": 30,
     "metadata": {},
     "output_type": "execute_result"
    }
   ],
   "source": [
    "csv_all.shape"
   ]
  },
  {
   "cell_type": "code",
   "execution_count": 31,
   "id": "d90827b6",
   "metadata": {},
   "outputs": [
    {
     "data": {
      "text/plain": "Index(['mod_d', 'ID', 'ID_fam', 'year', 'region', 'town_t', 'apt_t', 'psu',\n       'sex', 'age',\n       ...\n       'HEI_TVEG', 'HEI_VEG', 'HEI_PROTF', 'HEI_DAIRY', 'HEI_SFA', 'HEI_NA',\n       'HEI_SWEET', 'HEI_CHO', 'HEI_FAT', 'HEI_EN'],\n      dtype='object', length=815)"
     },
     "execution_count": 31,
     "metadata": {},
     "output_type": "execute_result"
    }
   ],
   "source": [
    "csv_all.columns"
   ]
  },
  {
   "cell_type": "code",
   "execution_count": 32,
   "id": "27834649",
   "metadata": {},
   "outputs": [
    {
     "name": "stdout",
     "output_type": "stream",
     "text": [
      "['ID', 'sex', 'age', 'mh_PHQ_S', 'HE_sbp', 'HE_dbp', 'HE_ht', 'HE_wt', 'HE_BMI', 'GS_mea_r_1', 'GS_mea_r_2', 'GS_mea_r_3', 'GS_mea_l_1', 'GS_mea_l_2', 'GS_mea_l_3']\n"
     ]
    }
   ],
   "source": [
    "description_columns = csv_description[['변수명']].values.tolist()\n",
    "key_columns = []\n",
    "for i in description_columns:\n",
    "    key_columns.append(i[0])\n",
    "print(key_columns)"
   ]
  },
  {
   "cell_type": "markdown",
   "id": "57fab900",
   "metadata": {},
   "source": [
    "#### 필요한 column만 전체 데이터셋에서 추출"
   ]
  },
  {
   "cell_type": "code",
   "execution_count": 33,
   "id": "98b791cc",
   "metadata": {},
   "outputs": [],
   "source": [
    "selected_columns = csv_all[key_columns]"
   ]
  },
  {
   "cell_type": "code",
   "execution_count": 34,
   "id": "86f84cf3",
   "metadata": {},
   "outputs": [
    {
     "data": {
      "text/plain": "           ID  sex  age  mh_PHQ_S  HE_sbp  HE_dbp  HE_ht  HE_wt     HE_BMI  \\\n0  A701020501    1   80       0.0   150.0    84.0  162.4   56.0  21.233226   \n1  A701021301    1   78       3.0   132.0    77.0  167.7   76.4  27.166096   \n2  A701021302    2   75       2.0   156.0    73.0  157.7   53.2  21.391845   \n3  A701022601    2   43       4.0   102.0    70.0  151.0   53.5  23.463883   \n4  A701023303    2   80       0.0   149.0    81.0  146.1   57.6  26.984977   \n\n   GS_mea_r_1  GS_mea_r_2  GS_mea_r_3  GS_mea_l_1  GS_mea_l_2  GS_mea_l_3  \n0        19.2        22.2        20.0        16.8        18.0        19.6  \n1        40.5        38.2        40.0        35.9        37.2        39.2  \n2        15.3        17.4        15.3        10.3        10.7        10.4  \n3        24.8        24.5        23.8        19.2        19.9        22.6  \n4         8.6        13.5        16.1        14.6        13.4        15.0  ",
      "text/html": "<div>\n<style scoped>\n    .dataframe tbody tr th:only-of-type {\n        vertical-align: middle;\n    }\n\n    .dataframe tbody tr th {\n        vertical-align: top;\n    }\n\n    .dataframe thead th {\n        text-align: right;\n    }\n</style>\n<table border=\"1\" class=\"dataframe\">\n  <thead>\n    <tr style=\"text-align: right;\">\n      <th></th>\n      <th>ID</th>\n      <th>sex</th>\n      <th>age</th>\n      <th>mh_PHQ_S</th>\n      <th>HE_sbp</th>\n      <th>HE_dbp</th>\n      <th>HE_ht</th>\n      <th>HE_wt</th>\n      <th>HE_BMI</th>\n      <th>GS_mea_r_1</th>\n      <th>GS_mea_r_2</th>\n      <th>GS_mea_r_3</th>\n      <th>GS_mea_l_1</th>\n      <th>GS_mea_l_2</th>\n      <th>GS_mea_l_3</th>\n    </tr>\n  </thead>\n  <tbody>\n    <tr>\n      <th>0</th>\n      <td>A701020501</td>\n      <td>1</td>\n      <td>80</td>\n      <td>0.0</td>\n      <td>150.0</td>\n      <td>84.0</td>\n      <td>162.4</td>\n      <td>56.0</td>\n      <td>21.233226</td>\n      <td>19.2</td>\n      <td>22.2</td>\n      <td>20.0</td>\n      <td>16.8</td>\n      <td>18.0</td>\n      <td>19.6</td>\n    </tr>\n    <tr>\n      <th>1</th>\n      <td>A701021301</td>\n      <td>1</td>\n      <td>78</td>\n      <td>3.0</td>\n      <td>132.0</td>\n      <td>77.0</td>\n      <td>167.7</td>\n      <td>76.4</td>\n      <td>27.166096</td>\n      <td>40.5</td>\n      <td>38.2</td>\n      <td>40.0</td>\n      <td>35.9</td>\n      <td>37.2</td>\n      <td>39.2</td>\n    </tr>\n    <tr>\n      <th>2</th>\n      <td>A701021302</td>\n      <td>2</td>\n      <td>75</td>\n      <td>2.0</td>\n      <td>156.0</td>\n      <td>73.0</td>\n      <td>157.7</td>\n      <td>53.2</td>\n      <td>21.391845</td>\n      <td>15.3</td>\n      <td>17.4</td>\n      <td>15.3</td>\n      <td>10.3</td>\n      <td>10.7</td>\n      <td>10.4</td>\n    </tr>\n    <tr>\n      <th>3</th>\n      <td>A701022601</td>\n      <td>2</td>\n      <td>43</td>\n      <td>4.0</td>\n      <td>102.0</td>\n      <td>70.0</td>\n      <td>151.0</td>\n      <td>53.5</td>\n      <td>23.463883</td>\n      <td>24.8</td>\n      <td>24.5</td>\n      <td>23.8</td>\n      <td>19.2</td>\n      <td>19.9</td>\n      <td>22.6</td>\n    </tr>\n    <tr>\n      <th>4</th>\n      <td>A701023303</td>\n      <td>2</td>\n      <td>80</td>\n      <td>0.0</td>\n      <td>149.0</td>\n      <td>81.0</td>\n      <td>146.1</td>\n      <td>57.6</td>\n      <td>26.984977</td>\n      <td>8.6</td>\n      <td>13.5</td>\n      <td>16.1</td>\n      <td>14.6</td>\n      <td>13.4</td>\n      <td>15.0</td>\n    </tr>\n  </tbody>\n</table>\n</div>"
     },
     "execution_count": 34,
     "metadata": {},
     "output_type": "execute_result"
    }
   ],
   "source": [
    "selected_columns.head()"
   ]
  },
  {
   "cell_type": "markdown",
   "id": "95db4046",
   "metadata": {},
   "source": [
    "#### 데이터셋 결측치 확인 및 제거"
   ]
  },
  {
   "cell_type": "code",
   "execution_count": 35,
   "id": "ec3ade16",
   "metadata": {},
   "outputs": [
    {
     "name": "stdout",
     "output_type": "stream",
     "text": [
      "<class 'pandas.core.frame.DataFrame'>\n",
      "RangeIndex: 7992 entries, 0 to 7991\n",
      "Data columns (total 15 columns):\n",
      " #   Column      Non-Null Count  Dtype  \n",
      "---  ------      --------------  -----  \n",
      " 0   ID          7992 non-null   object \n",
      " 1   sex         7992 non-null   int64  \n",
      " 2   age         7992 non-null   int64  \n",
      " 3   mh_PHQ_S    5918 non-null   float64\n",
      " 4   HE_sbp      6847 non-null   float64\n",
      " 5   HE_dbp      6847 non-null   float64\n",
      " 6   HE_ht       7593 non-null   float64\n",
      " 7   HE_wt       7635 non-null   float64\n",
      " 8   HE_BMI      7591 non-null   float64\n",
      " 9   GS_mea_r_1  6630 non-null   float64\n",
      " 10  GS_mea_r_2  6628 non-null   float64\n",
      " 11  GS_mea_r_3  6626 non-null   float64\n",
      " 12  GS_mea_l_1  6641 non-null   float64\n",
      " 13  GS_mea_l_2  6639 non-null   float64\n",
      " 14  GS_mea_l_3  6637 non-null   float64\n",
      "dtypes: float64(12), int64(2), object(1)\n",
      "memory usage: 936.7+ KB\n"
     ]
    }
   ],
   "source": [
    "selected_columns.info()"
   ]
  },
  {
   "cell_type": "markdown",
   "id": "3baf88a2",
   "metadata": {},
   "source": [
    "총 7992개의 데이터셋에서 demographics에 해당하는 attribute(ID, sex, age)를 제외하고 전부 결측치 존재."
   ]
  },
  {
   "cell_type": "markdown",
   "id": "bb4fd073",
   "metadata": {},
   "source": [
    "#### 1. mh_PHQ_S: 본 프로젝트에서 key attribute에 해당하는 값이기 때문에, 결측치가 있는 데이터는 그냥 제거 (Aggregation)"
   ]
  },
  {
   "cell_type": "code",
   "execution_count": 36,
   "outputs": [
    {
     "data": {
      "text/plain": "Empty DataFrame\nColumns: [ID, sex, age, mh_PHQ_S, HE_sbp, HE_dbp, HE_ht, HE_wt, HE_BMI, GS_mea_r_1, GS_mea_r_2, GS_mea_r_3, GS_mea_l_1, GS_mea_l_2, GS_mea_l_3]\nIndex: []",
      "text/html": "<div>\n<style scoped>\n    .dataframe tbody tr th:only-of-type {\n        vertical-align: middle;\n    }\n\n    .dataframe tbody tr th {\n        vertical-align: top;\n    }\n\n    .dataframe thead th {\n        text-align: right;\n    }\n</style>\n<table border=\"1\" class=\"dataframe\">\n  <thead>\n    <tr style=\"text-align: right;\">\n      <th></th>\n      <th>ID</th>\n      <th>sex</th>\n      <th>age</th>\n      <th>mh_PHQ_S</th>\n      <th>HE_sbp</th>\n      <th>HE_dbp</th>\n      <th>HE_ht</th>\n      <th>HE_wt</th>\n      <th>HE_BMI</th>\n      <th>GS_mea_r_1</th>\n      <th>GS_mea_r_2</th>\n      <th>GS_mea_r_3</th>\n      <th>GS_mea_l_1</th>\n      <th>GS_mea_l_2</th>\n      <th>GS_mea_l_3</th>\n    </tr>\n  </thead>\n  <tbody>\n  </tbody>\n</table>\n</div>"
     },
     "execution_count": 36,
     "metadata": {},
     "output_type": "execute_result"
    }
   ],
   "source": [
    "dataset = selected_columns.dropna(subset=['mh_PHQ_S'])\n",
    "dataset.loc[dataset['mh_PHQ_S'].isna()] # 결측치 데이터 없음 확인"
   ],
   "metadata": {
    "collapsed": false
   }
  },
  {
   "cell_type": "markdown",
   "source": [
    "mh_PHQ_S 값의 경우, 아래와 같이 카테고리가 구분됨.\n",
    "각 열별로 0부터 3까지 인덱스를 할당해서, 새로운 depression_scale 열을 생성한 뒤 데이터를 전처리함.\n",
    "실제 분석에서는 새롭게 생성한 열을 사용할 예정."
   ],
   "metadata": {
    "collapsed": false
   }
  },
  {
   "cell_type": "markdown",
   "source": [
    "| mh_PHQ_S | 1-4점  | 5-9점    | 10-19점  | 20점 이상 |\n",
    "|----------|-------|---------|---------|--------|\n",
    "| scale    | 보통 상태 | 가벼운 우울증 | 중간정도 우울증 | 심한 우울증 |\n",
    "| index    | 0     | 1       | 2       | 3      |"
   ],
   "metadata": {
    "collapsed": false
   }
  },
  {
   "cell_type": "code",
   "execution_count": 37,
   "outputs": [
    {
     "name": "stderr",
     "output_type": "stream",
     "text": [
      "/var/folders/5n/t6zwxly903q0zxv_m_cjvv5c0000gn/T/ipykernel_16945/1418116218.py:11: SettingWithCopyWarning: \n",
      "A value is trying to be set on a copy of a slice from a DataFrame.\n",
      "Try using .loc[row_indexer,col_indexer] = value instead\n",
      "\n",
      "See the caveats in the documentation: https://pandas.pydata.org/pandas-docs/stable/user_guide/indexing.html#returning-a-view-versus-a-copy\n",
      "  dataset['depression_scale'] = dataset.apply(calculate_depression_scale, axis=1)\n"
     ]
    }
   ],
   "source": [
    "def calculate_depression_scale(row):\n",
    "    if row['mh_PHQ_S'] < 5:\n",
    "        return 0\n",
    "    elif row['mh_PHQ_S'] < 10:\n",
    "        return 1\n",
    "    elif row['mh_PHQ_S'] < 20:\n",
    "        return 2\n",
    "    else:\n",
    "        return 3\n",
    "\n",
    "dataset['depression_scale'] = dataset.apply(calculate_depression_scale, axis=1)\n",
    "dataset = dataset.drop('mh_PHQ_S', axis=1)"
   ],
   "metadata": {
    "collapsed": false
   }
  },
  {
   "cell_type": "markdown",
   "id": "2968483a",
   "metadata": {},
   "source": [
    "#### 2. HE_sbp, HE_dbp: 측정 값이 있으면 두 데이터 모두 존재 하는 것으로 보임. 혈압은 다른 데이터로 유추할 수 없기 때문에 그냥 제거"
   ]
  },
  {
   "cell_type": "code",
   "execution_count": 38,
   "id": "aa7ef7f4",
   "metadata": {},
   "outputs": [
    {
     "data": {
      "text/plain": "Empty DataFrame\nColumns: [ID, sex, age, HE_sbp, HE_dbp, HE_ht, HE_wt, HE_BMI, GS_mea_r_1, GS_mea_r_2, GS_mea_r_3, GS_mea_l_1, GS_mea_l_2, GS_mea_l_3, depression_scale]\nIndex: []",
      "text/html": "<div>\n<style scoped>\n    .dataframe tbody tr th:only-of-type {\n        vertical-align: middle;\n    }\n\n    .dataframe tbody tr th {\n        vertical-align: top;\n    }\n\n    .dataframe thead th {\n        text-align: right;\n    }\n</style>\n<table border=\"1\" class=\"dataframe\">\n  <thead>\n    <tr style=\"text-align: right;\">\n      <th></th>\n      <th>ID</th>\n      <th>sex</th>\n      <th>age</th>\n      <th>HE_sbp</th>\n      <th>HE_dbp</th>\n      <th>HE_ht</th>\n      <th>HE_wt</th>\n      <th>HE_BMI</th>\n      <th>GS_mea_r_1</th>\n      <th>GS_mea_r_2</th>\n      <th>GS_mea_r_3</th>\n      <th>GS_mea_l_1</th>\n      <th>GS_mea_l_2</th>\n      <th>GS_mea_l_3</th>\n      <th>depression_scale</th>\n    </tr>\n  </thead>\n  <tbody>\n  </tbody>\n</table>\n</div>"
     },
     "execution_count": 38,
     "metadata": {},
     "output_type": "execute_result"
    }
   ],
   "source": [
    "dataset = dataset.dropna(subset=['HE_sbp','HE_dbp'])\n",
    "dataset.loc[dataset['HE_sbp'].isna()] # 결측치 데이터 없음 확인"
   ]
  },
  {
   "cell_type": "code",
   "execution_count": 39,
   "id": "b0e69e29",
   "metadata": {},
   "outputs": [
    {
     "name": "stdout",
     "output_type": "stream",
     "text": [
      "<class 'pandas.core.frame.DataFrame'>\n",
      "Int64Index: 5889 entries, 0 to 7988\n",
      "Data columns (total 15 columns):\n",
      " #   Column            Non-Null Count  Dtype  \n",
      "---  ------            --------------  -----  \n",
      " 0   ID                5889 non-null   object \n",
      " 1   sex               5889 non-null   int64  \n",
      " 2   age               5889 non-null   int64  \n",
      " 3   HE_sbp            5889 non-null   float64\n",
      " 4   HE_dbp            5889 non-null   float64\n",
      " 5   HE_ht             5849 non-null   float64\n",
      " 6   HE_wt             5883 non-null   float64\n",
      " 7   HE_BMI            5847 non-null   float64\n",
      " 8   GS_mea_r_1        5699 non-null   float64\n",
      " 9   GS_mea_r_2        5697 non-null   float64\n",
      " 10  GS_mea_r_3        5695 non-null   float64\n",
      " 11  GS_mea_l_1        5700 non-null   float64\n",
      " 12  GS_mea_l_2        5698 non-null   float64\n",
      " 13  GS_mea_l_3        5696 non-null   float64\n",
      " 14  depression_scale  5889 non-null   int64  \n",
      "dtypes: float64(11), int64(3), object(1)\n",
      "memory usage: 736.1+ KB\n"
     ]
    }
   ],
   "source": [
    "dataset.info()"
   ]
  },
  {
   "cell_type": "markdown",
   "id": "62c5b835",
   "metadata": {},
   "source": [
    "#### 3. HE_ht, HE_wt, HE_BMI: HE_ht, HE_wt가 둘다 있으면 HE_BMI를 계산할 수 있음."
   ]
  },
  {
   "cell_type": "markdown",
   "id": "3cfa9201",
   "metadata": {},
   "source": [
    "HE_ht, HE_wt 둘중 하나라도 결측치가 있으면 제거, 이후에 HE_BMI 결측치의 경우, HE_ht와 HE_wt를 활용해 아래 식으로 계산하여 채우기"
   ]
  },
  {
   "cell_type": "markdown",
   "id": "5a9d99fe",
   "metadata": {},
   "source": [
    "BMI = wt/ht^2"
   ]
  },
  {
   "cell_type": "markdown",
   "id": "b75621ec",
   "metadata": {},
   "source": [
    "* 저체중: BMI < 18.5\n",
    "* 정상: 18.5 <= BMI < 23\n",
    "* 비만 전 단계: 23 <= BMI < 25\n",
    "* 1단계 비만: 25 <= BMI < 30\n",
    "* 2단계 비만: 30 <= BMI < 35\n",
    "* 3단계 비만: 35 <= BMI"
   ]
  },
  {
   "cell_type": "code",
   "execution_count": 40,
   "id": "feacfcc5",
   "metadata": {},
   "outputs": [
    {
     "data": {
      "text/plain": "Empty DataFrame\nColumns: [ID, sex, age, HE_sbp, HE_dbp, HE_ht, HE_wt, HE_BMI, GS_mea_r_1, GS_mea_r_2, GS_mea_r_3, GS_mea_l_1, GS_mea_l_2, GS_mea_l_3, depression_scale]\nIndex: []",
      "text/html": "<div>\n<style scoped>\n    .dataframe tbody tr th:only-of-type {\n        vertical-align: middle;\n    }\n\n    .dataframe tbody tr th {\n        vertical-align: top;\n    }\n\n    .dataframe thead th {\n        text-align: right;\n    }\n</style>\n<table border=\"1\" class=\"dataframe\">\n  <thead>\n    <tr style=\"text-align: right;\">\n      <th></th>\n      <th>ID</th>\n      <th>sex</th>\n      <th>age</th>\n      <th>HE_sbp</th>\n      <th>HE_dbp</th>\n      <th>HE_ht</th>\n      <th>HE_wt</th>\n      <th>HE_BMI</th>\n      <th>GS_mea_r_1</th>\n      <th>GS_mea_r_2</th>\n      <th>GS_mea_r_3</th>\n      <th>GS_mea_l_1</th>\n      <th>GS_mea_l_2</th>\n      <th>GS_mea_l_3</th>\n      <th>depression_scale</th>\n    </tr>\n  </thead>\n  <tbody>\n  </tbody>\n</table>\n</div>"
     },
     "execution_count": 40,
     "metadata": {},
     "output_type": "execute_result"
    }
   ],
   "source": [
    "dataset = dataset.dropna(subset=['HE_ht','HE_wt'])\n",
    "dataset.loc[dataset['HE_BMI'].isna()] # 결측치 데이터 없음 확인"
   ]
  },
  {
   "cell_type": "code",
   "execution_count": 41,
   "id": "785c97df",
   "metadata": {},
   "outputs": [
    {
     "name": "stdout",
     "output_type": "stream",
     "text": [
      "<class 'pandas.core.frame.DataFrame'>\n",
      "Int64Index: 5847 entries, 0 to 7988\n",
      "Data columns (total 15 columns):\n",
      " #   Column            Non-Null Count  Dtype  \n",
      "---  ------            --------------  -----  \n",
      " 0   ID                5847 non-null   object \n",
      " 1   sex               5847 non-null   int64  \n",
      " 2   age               5847 non-null   int64  \n",
      " 3   HE_sbp            5847 non-null   float64\n",
      " 4   HE_dbp            5847 non-null   float64\n",
      " 5   HE_ht             5847 non-null   float64\n",
      " 6   HE_wt             5847 non-null   float64\n",
      " 7   HE_BMI            5847 non-null   float64\n",
      " 8   GS_mea_r_1        5665 non-null   float64\n",
      " 9   GS_mea_r_2        5663 non-null   float64\n",
      " 10  GS_mea_r_3        5661 non-null   float64\n",
      " 11  GS_mea_l_1        5663 non-null   float64\n",
      " 12  GS_mea_l_2        5661 non-null   float64\n",
      " 13  GS_mea_l_3        5659 non-null   float64\n",
      " 14  depression_scale  5847 non-null   int64  \n",
      "dtypes: float64(11), int64(3), object(1)\n",
      "memory usage: 730.9+ KB\n"
     ]
    }
   ],
   "source": [
    "dataset.info()"
   ]
  },
  {
   "cell_type": "markdown",
   "id": "f9551306",
   "metadata": {},
   "source": [
    "HE_ht, HE_wt, HE_BMI의 데이터 수가 모두 동일함으로 추가적인 결측치 처리 없음"
   ]
  },
  {
   "cell_type": "markdown",
   "id": "9d6a93aa",
   "metadata": {},
   "source": [
    "#### 4. BMI, age, sex를 통해 체지방률 계산 (Feature creation)"
   ]
  },
  {
   "cell_type": "markdown",
   "id": "d81ff8ca",
   "metadata": {},
   "source": [
    "성인: 1.2 * BMI + 0.23 * 나이 - 10.8 * 성별(남성=1, 여성=0) - 5.4\n",
    "\n",
    "아동: 1.5 * BMI - 0.7 * 나이 - 3.6 * 성별(남성=1, 여성=0) + 1.4"
   ]
  },
  {
   "cell_type": "markdown",
   "id": "4f6e2cd1",
   "metadata": {},
   "source": [
    "해당 데이터에서는 \n",
    "1. age>=19인 경우 성인\n",
    "2. 남자=1, 여자=2"
   ]
  },
  {
   "cell_type": "code",
   "execution_count": 42,
   "id": "e31abb80",
   "metadata": {},
   "outputs": [],
   "source": [
    "def calculate_body_fat(row):\n",
    "    if row['age'] >= 19 & row['sex'] == 1:\n",
    "        return 1.2 * row['HE_BMI'] + 0.23 * row['age'] - 10.8 - 5.4\n",
    "    elif row['age'] >= 19 & row['sex'] == 2:\n",
    "        return 1.2 * row['HE_BMI'] + 0.23 * row['age'] - 5.4\n",
    "    elif row['age'] < 19 & row['sex'] == 1:\n",
    "        return 1.5 * row['bmi'] - 0.7 * row['age'] - 3.6 + 1.4\n",
    "    else:\n",
    "        return 1.5 * row['bmi'] - 0.7 * row['age'] + 1.4\n",
    "\n",
    "dataset['body_fat'] = dataset.apply(calculate_body_fat, axis=1)"
   ]
  },
  {
   "cell_type": "code",
   "execution_count": 43,
   "id": "84ae3801",
   "metadata": {},
   "outputs": [
    {
     "data": {
      "text/plain": "              ID  sex  age  HE_sbp  HE_dbp  HE_ht  HE_wt     HE_BMI  \\\n0     A701020501    1   80   150.0    84.0  162.4   56.0  21.233226   \n1     A701021301    1   78   132.0    77.0  167.7   76.4  27.166096   \n2     A701021302    2   75   156.0    73.0  157.7   53.2  21.391845   \n3     A701022601    2   43   102.0    70.0  151.0   53.5  23.463883   \n4     A701023303    2   80   149.0    81.0  146.1   57.6  26.984977   \n...          ...  ...  ...     ...     ...    ...    ...        ...   \n7981  R708028501    1   41   130.0    82.0  178.7   91.0  28.496550   \n7982  R708028502    2   35    93.0    63.0  159.8   55.6  21.773149   \n7983  R708028503    2   66    98.0    63.0  156.9   63.9  25.957028   \n7987  R708028902    2   73   136.0    82.0  145.2   51.8  24.569512   \n7988  R708029201    1   43   122.0    99.0  176.8   84.1  26.904906   \n\n      GS_mea_r_1  GS_mea_r_2  GS_mea_r_3  GS_mea_l_1  GS_mea_l_2  GS_mea_l_3  \\\n0           19.2        22.2        20.0        16.8        18.0        19.6   \n1           40.5        38.2        40.0        35.9        37.2        39.2   \n2           15.3        17.4        15.3        10.3        10.7        10.4   \n3           24.8        24.5        23.8        19.2        19.9        22.6   \n4            8.6        13.5        16.1        14.6        13.4        15.0   \n...          ...         ...         ...         ...         ...         ...   \n7981        55.5        58.6        60.1        57.4        60.6        58.0   \n7982        31.9        28.4        29.3        26.9        24.2        25.1   \n7983        18.5        21.0        20.9        18.7        18.4        18.7   \n7987        19.7        26.1        23.7        20.9        22.5        20.7   \n7988        32.5        30.7        32.4        35.3        32.9        29.1   \n\n      depression_scale   body_fat  \n0                    0  27.679871  \n1                    0  34.339315  \n2                    0  37.520214  \n3                    0  32.646660  \n4                    0  45.381972  \n...                ...        ...  \n7981                 0  27.425860  \n7982                 0  28.777779  \n7983                 0  40.928434  \n7987                 0  40.873414  \n7988                 1  25.975887  \n\n[5847 rows x 16 columns]",
      "text/html": "<div>\n<style scoped>\n    .dataframe tbody tr th:only-of-type {\n        vertical-align: middle;\n    }\n\n    .dataframe tbody tr th {\n        vertical-align: top;\n    }\n\n    .dataframe thead th {\n        text-align: right;\n    }\n</style>\n<table border=\"1\" class=\"dataframe\">\n  <thead>\n    <tr style=\"text-align: right;\">\n      <th></th>\n      <th>ID</th>\n      <th>sex</th>\n      <th>age</th>\n      <th>HE_sbp</th>\n      <th>HE_dbp</th>\n      <th>HE_ht</th>\n      <th>HE_wt</th>\n      <th>HE_BMI</th>\n      <th>GS_mea_r_1</th>\n      <th>GS_mea_r_2</th>\n      <th>GS_mea_r_3</th>\n      <th>GS_mea_l_1</th>\n      <th>GS_mea_l_2</th>\n      <th>GS_mea_l_3</th>\n      <th>depression_scale</th>\n      <th>body_fat</th>\n    </tr>\n  </thead>\n  <tbody>\n    <tr>\n      <th>0</th>\n      <td>A701020501</td>\n      <td>1</td>\n      <td>80</td>\n      <td>150.0</td>\n      <td>84.0</td>\n      <td>162.4</td>\n      <td>56.0</td>\n      <td>21.233226</td>\n      <td>19.2</td>\n      <td>22.2</td>\n      <td>20.0</td>\n      <td>16.8</td>\n      <td>18.0</td>\n      <td>19.6</td>\n      <td>0</td>\n      <td>27.679871</td>\n    </tr>\n    <tr>\n      <th>1</th>\n      <td>A701021301</td>\n      <td>1</td>\n      <td>78</td>\n      <td>132.0</td>\n      <td>77.0</td>\n      <td>167.7</td>\n      <td>76.4</td>\n      <td>27.166096</td>\n      <td>40.5</td>\n      <td>38.2</td>\n      <td>40.0</td>\n      <td>35.9</td>\n      <td>37.2</td>\n      <td>39.2</td>\n      <td>0</td>\n      <td>34.339315</td>\n    </tr>\n    <tr>\n      <th>2</th>\n      <td>A701021302</td>\n      <td>2</td>\n      <td>75</td>\n      <td>156.0</td>\n      <td>73.0</td>\n      <td>157.7</td>\n      <td>53.2</td>\n      <td>21.391845</td>\n      <td>15.3</td>\n      <td>17.4</td>\n      <td>15.3</td>\n      <td>10.3</td>\n      <td>10.7</td>\n      <td>10.4</td>\n      <td>0</td>\n      <td>37.520214</td>\n    </tr>\n    <tr>\n      <th>3</th>\n      <td>A701022601</td>\n      <td>2</td>\n      <td>43</td>\n      <td>102.0</td>\n      <td>70.0</td>\n      <td>151.0</td>\n      <td>53.5</td>\n      <td>23.463883</td>\n      <td>24.8</td>\n      <td>24.5</td>\n      <td>23.8</td>\n      <td>19.2</td>\n      <td>19.9</td>\n      <td>22.6</td>\n      <td>0</td>\n      <td>32.646660</td>\n    </tr>\n    <tr>\n      <th>4</th>\n      <td>A701023303</td>\n      <td>2</td>\n      <td>80</td>\n      <td>149.0</td>\n      <td>81.0</td>\n      <td>146.1</td>\n      <td>57.6</td>\n      <td>26.984977</td>\n      <td>8.6</td>\n      <td>13.5</td>\n      <td>16.1</td>\n      <td>14.6</td>\n      <td>13.4</td>\n      <td>15.0</td>\n      <td>0</td>\n      <td>45.381972</td>\n    </tr>\n    <tr>\n      <th>...</th>\n      <td>...</td>\n      <td>...</td>\n      <td>...</td>\n      <td>...</td>\n      <td>...</td>\n      <td>...</td>\n      <td>...</td>\n      <td>...</td>\n      <td>...</td>\n      <td>...</td>\n      <td>...</td>\n      <td>...</td>\n      <td>...</td>\n      <td>...</td>\n      <td>...</td>\n      <td>...</td>\n    </tr>\n    <tr>\n      <th>7981</th>\n      <td>R708028501</td>\n      <td>1</td>\n      <td>41</td>\n      <td>130.0</td>\n      <td>82.0</td>\n      <td>178.7</td>\n      <td>91.0</td>\n      <td>28.496550</td>\n      <td>55.5</td>\n      <td>58.6</td>\n      <td>60.1</td>\n      <td>57.4</td>\n      <td>60.6</td>\n      <td>58.0</td>\n      <td>0</td>\n      <td>27.425860</td>\n    </tr>\n    <tr>\n      <th>7982</th>\n      <td>R708028502</td>\n      <td>2</td>\n      <td>35</td>\n      <td>93.0</td>\n      <td>63.0</td>\n      <td>159.8</td>\n      <td>55.6</td>\n      <td>21.773149</td>\n      <td>31.9</td>\n      <td>28.4</td>\n      <td>29.3</td>\n      <td>26.9</td>\n      <td>24.2</td>\n      <td>25.1</td>\n      <td>0</td>\n      <td>28.777779</td>\n    </tr>\n    <tr>\n      <th>7983</th>\n      <td>R708028503</td>\n      <td>2</td>\n      <td>66</td>\n      <td>98.0</td>\n      <td>63.0</td>\n      <td>156.9</td>\n      <td>63.9</td>\n      <td>25.957028</td>\n      <td>18.5</td>\n      <td>21.0</td>\n      <td>20.9</td>\n      <td>18.7</td>\n      <td>18.4</td>\n      <td>18.7</td>\n      <td>0</td>\n      <td>40.928434</td>\n    </tr>\n    <tr>\n      <th>7987</th>\n      <td>R708028902</td>\n      <td>2</td>\n      <td>73</td>\n      <td>136.0</td>\n      <td>82.0</td>\n      <td>145.2</td>\n      <td>51.8</td>\n      <td>24.569512</td>\n      <td>19.7</td>\n      <td>26.1</td>\n      <td>23.7</td>\n      <td>20.9</td>\n      <td>22.5</td>\n      <td>20.7</td>\n      <td>0</td>\n      <td>40.873414</td>\n    </tr>\n    <tr>\n      <th>7988</th>\n      <td>R708029201</td>\n      <td>1</td>\n      <td>43</td>\n      <td>122.0</td>\n      <td>99.0</td>\n      <td>176.8</td>\n      <td>84.1</td>\n      <td>26.904906</td>\n      <td>32.5</td>\n      <td>30.7</td>\n      <td>32.4</td>\n      <td>35.3</td>\n      <td>32.9</td>\n      <td>29.1</td>\n      <td>1</td>\n      <td>25.975887</td>\n    </tr>\n  </tbody>\n</table>\n<p>5847 rows × 16 columns</p>\n</div>"
     },
     "execution_count": 43,
     "metadata": {},
     "output_type": "execute_result"
    }
   ],
   "source": [
    "dataset"
   ]
  },
  {
   "cell_type": "markdown",
   "id": "a902f195",
   "metadata": {},
   "source": [
    "#### 5. GS_mea_r_#, GS_mea_l_#: 3차례에 걸친 악력 측정이므로 평균값을 내서 사용할 것."
   ]
  },
  {
   "cell_type": "markdown",
   "id": "88be3554",
   "metadata": {},
   "source": [
    "1. 만약 3개 attribute 값이 전부 결측치이면 데이터 삭제\n",
    "2. 3개 중 하나라도 값이 존재한다면 나머지 값을 하나의 값으로 채우기\n",
    "3. 3개 중 값이 두 개 존재한다면 나머지 값을 두 개의 평균으로 채우기"
   ]
  },
  {
   "cell_type": "markdown",
   "id": "86e2f739",
   "metadata": {},
   "source": [
    "결측치 확인"
   ]
  },
  {
   "cell_type": "code",
   "execution_count": 44,
   "id": "65374109",
   "metadata": {},
   "outputs": [
    {
     "data": {
      "text/plain": "              ID  sex  age  HE_sbp  HE_dbp  HE_ht  HE_wt     HE_BMI  \\\n537   A714032302    2   46   114.0    78.0  160.6   56.8  22.022025   \n655   A717026602    2   33   112.0    82.0  169.9   57.6  19.954265   \n731   A720022102    2   58   136.0    93.0  160.3   60.1  23.388772   \n2439  D701024701    1   58   128.0    84.0  163.8   82.0  30.562302   \n3703  H703029102    2   46   106.0    69.0  153.2   56.7  24.158253   \n3957  H708029503    1   23   101.0    78.0  181.8   66.0  19.968994   \n4454  H719028603    2   26   109.0    79.0  167.7   67.4  23.965902   \n\n      GS_mea_r_1  GS_mea_r_2  GS_mea_r_3  GS_mea_l_1  GS_mea_l_2  GS_mea_l_3  \\\n537         17.0        14.1        10.9        15.6         9.9         NaN   \n655         22.1        21.0        22.9        18.7         NaN         NaN   \n731         21.1        19.6         NaN        21.0        19.4         NaN   \n2439        40.9         NaN         NaN        42.9        42.0        41.8   \n3703        17.6        18.7        21.2        12.0         NaN         NaN   \n3957        32.1         NaN         NaN        42.0        39.9        42.7   \n4454        23.9        25.8         NaN        19.4        20.1        21.1   \n\n      depression_scale   body_fat  \n537                  0  31.606430  \n655                  0  26.135117  \n731                  2  36.006527  \n2439                 0  33.814762  \n3703                 0  34.169904  \n3957                 0  13.052792  \n4454                 0  29.339082  ",
      "text/html": "<div>\n<style scoped>\n    .dataframe tbody tr th:only-of-type {\n        vertical-align: middle;\n    }\n\n    .dataframe tbody tr th {\n        vertical-align: top;\n    }\n\n    .dataframe thead th {\n        text-align: right;\n    }\n</style>\n<table border=\"1\" class=\"dataframe\">\n  <thead>\n    <tr style=\"text-align: right;\">\n      <th></th>\n      <th>ID</th>\n      <th>sex</th>\n      <th>age</th>\n      <th>HE_sbp</th>\n      <th>HE_dbp</th>\n      <th>HE_ht</th>\n      <th>HE_wt</th>\n      <th>HE_BMI</th>\n      <th>GS_mea_r_1</th>\n      <th>GS_mea_r_2</th>\n      <th>GS_mea_r_3</th>\n      <th>GS_mea_l_1</th>\n      <th>GS_mea_l_2</th>\n      <th>GS_mea_l_3</th>\n      <th>depression_scale</th>\n      <th>body_fat</th>\n    </tr>\n  </thead>\n  <tbody>\n    <tr>\n      <th>537</th>\n      <td>A714032302</td>\n      <td>2</td>\n      <td>46</td>\n      <td>114.0</td>\n      <td>78.0</td>\n      <td>160.6</td>\n      <td>56.8</td>\n      <td>22.022025</td>\n      <td>17.0</td>\n      <td>14.1</td>\n      <td>10.9</td>\n      <td>15.6</td>\n      <td>9.9</td>\n      <td>NaN</td>\n      <td>0</td>\n      <td>31.606430</td>\n    </tr>\n    <tr>\n      <th>655</th>\n      <td>A717026602</td>\n      <td>2</td>\n      <td>33</td>\n      <td>112.0</td>\n      <td>82.0</td>\n      <td>169.9</td>\n      <td>57.6</td>\n      <td>19.954265</td>\n      <td>22.1</td>\n      <td>21.0</td>\n      <td>22.9</td>\n      <td>18.7</td>\n      <td>NaN</td>\n      <td>NaN</td>\n      <td>0</td>\n      <td>26.135117</td>\n    </tr>\n    <tr>\n      <th>731</th>\n      <td>A720022102</td>\n      <td>2</td>\n      <td>58</td>\n      <td>136.0</td>\n      <td>93.0</td>\n      <td>160.3</td>\n      <td>60.1</td>\n      <td>23.388772</td>\n      <td>21.1</td>\n      <td>19.6</td>\n      <td>NaN</td>\n      <td>21.0</td>\n      <td>19.4</td>\n      <td>NaN</td>\n      <td>2</td>\n      <td>36.006527</td>\n    </tr>\n    <tr>\n      <th>2439</th>\n      <td>D701024701</td>\n      <td>1</td>\n      <td>58</td>\n      <td>128.0</td>\n      <td>84.0</td>\n      <td>163.8</td>\n      <td>82.0</td>\n      <td>30.562302</td>\n      <td>40.9</td>\n      <td>NaN</td>\n      <td>NaN</td>\n      <td>42.9</td>\n      <td>42.0</td>\n      <td>41.8</td>\n      <td>0</td>\n      <td>33.814762</td>\n    </tr>\n    <tr>\n      <th>3703</th>\n      <td>H703029102</td>\n      <td>2</td>\n      <td>46</td>\n      <td>106.0</td>\n      <td>69.0</td>\n      <td>153.2</td>\n      <td>56.7</td>\n      <td>24.158253</td>\n      <td>17.6</td>\n      <td>18.7</td>\n      <td>21.2</td>\n      <td>12.0</td>\n      <td>NaN</td>\n      <td>NaN</td>\n      <td>0</td>\n      <td>34.169904</td>\n    </tr>\n    <tr>\n      <th>3957</th>\n      <td>H708029503</td>\n      <td>1</td>\n      <td>23</td>\n      <td>101.0</td>\n      <td>78.0</td>\n      <td>181.8</td>\n      <td>66.0</td>\n      <td>19.968994</td>\n      <td>32.1</td>\n      <td>NaN</td>\n      <td>NaN</td>\n      <td>42.0</td>\n      <td>39.9</td>\n      <td>42.7</td>\n      <td>0</td>\n      <td>13.052792</td>\n    </tr>\n    <tr>\n      <th>4454</th>\n      <td>H719028603</td>\n      <td>2</td>\n      <td>26</td>\n      <td>109.0</td>\n      <td>79.0</td>\n      <td>167.7</td>\n      <td>67.4</td>\n      <td>23.965902</td>\n      <td>23.9</td>\n      <td>25.8</td>\n      <td>NaN</td>\n      <td>19.4</td>\n      <td>20.1</td>\n      <td>21.1</td>\n      <td>0</td>\n      <td>29.339082</td>\n    </tr>\n  </tbody>\n</table>\n</div>"
     },
     "execution_count": 44,
     "metadata": {},
     "output_type": "execute_result"
    }
   ],
   "source": [
    "dataset = dataset.dropna(subset=['GS_mea_r_1','GS_mea_r_2','GS_mea_r_3'], how='all')\n",
    "dataset = dataset.dropna(subset=['GS_mea_l_1','GS_mea_l_2','GS_mea_l_3'], how='all')\n",
    "dataset.loc[dataset['GS_mea_r_1'].isna() | dataset['GS_mea_r_2'].isna() | dataset['GS_mea_r_3'].isna()\n",
    " | dataset['GS_mea_l_1'].isna() | dataset['GS_mea_l_2'].isna() | dataset['GS_mea_l_3'].isna()]"
   ]
  },
  {
   "cell_type": "markdown",
   "id": "2f3d9c81",
   "metadata": {},
   "source": [
    "GS_mear_r_# 데이터 처리"
   ]
  },
  {
   "cell_type": "code",
   "execution_count": 45,
   "id": "b8ea9a0e",
   "metadata": {},
   "outputs": [],
   "source": [
    "non_GS = dataset[dataset['GS_mea_r_1'].isna() | dataset['GS_mea_r_2'].isna() | dataset['GS_mea_r_3'].isna() ]"
   ]
  },
  {
   "cell_type": "code",
   "execution_count": 46,
   "id": "3babbf87",
   "metadata": {},
   "outputs": [
    {
     "data": {
      "text/plain": "Int64Index([731, 2439, 3957, 4454], dtype='int64')"
     },
     "execution_count": 46,
     "metadata": {},
     "output_type": "execute_result"
    }
   ],
   "source": [
    "non_GS_index = non_GS.index # 결측치 남아 있는 데이터의 인덱스 값 추출\n",
    "non_GS_index"
   ]
  },
  {
   "cell_type": "code",
   "execution_count": 47,
   "id": "e546a34c",
   "metadata": {},
   "outputs": [
    {
     "data": {
      "text/plain": "Empty DataFrame\nColumns: [ID, sex, age, HE_sbp, HE_dbp, HE_ht, HE_wt, HE_BMI, GS_mea_r_1, GS_mea_r_2, GS_mea_r_3, GS_mea_l_1, GS_mea_l_2, GS_mea_l_3, depression_scale, body_fat]\nIndex: []",
      "text/html": "<div>\n<style scoped>\n    .dataframe tbody tr th:only-of-type {\n        vertical-align: middle;\n    }\n\n    .dataframe tbody tr th {\n        vertical-align: top;\n    }\n\n    .dataframe thead th {\n        text-align: right;\n    }\n</style>\n<table border=\"1\" class=\"dataframe\">\n  <thead>\n    <tr style=\"text-align: right;\">\n      <th></th>\n      <th>ID</th>\n      <th>sex</th>\n      <th>age</th>\n      <th>HE_sbp</th>\n      <th>HE_dbp</th>\n      <th>HE_ht</th>\n      <th>HE_wt</th>\n      <th>HE_BMI</th>\n      <th>GS_mea_r_1</th>\n      <th>GS_mea_r_2</th>\n      <th>GS_mea_r_3</th>\n      <th>GS_mea_l_1</th>\n      <th>GS_mea_l_2</th>\n      <th>GS_mea_l_3</th>\n      <th>depression_scale</th>\n      <th>body_fat</th>\n    </tr>\n  </thead>\n  <tbody>\n  </tbody>\n</table>\n</div>"
     },
     "execution_count": 47,
     "metadata": {},
     "output_type": "execute_result"
    }
   ],
   "source": [
    "for key in non_GS_index:\n",
    "    check_list = [dataset.loc[key, dataset.columns==value].values[0] for value in ['GS_mea_r_1','GS_mea_r_2','GS_mea_r_3']]\n",
    "    if check_list.count('nan') == 1:\n",
    "        dataset.loc[key, dataset.columns=='GS_mea_r_3'] = (check_list[0] + check_list[1])/2\n",
    "    else:\n",
    "        dataset.loc[key, dataset.columns=='GS_mea_r_2'] = check_list[0]\n",
    "        dataset.loc[key, dataset.columns=='GS_mea_r_3'] = check_list[0]\n",
    "\n",
    "dataset[dataset['GS_mea_r_1'].isna() | dataset['GS_mea_r_2'].isna() | dataset['GS_mea_r_3'].isna() ] # 결측치 없음 확인"
   ]
  },
  {
   "cell_type": "markdown",
   "id": "e040d504",
   "metadata": {},
   "source": [
    "GS_mea_l_# 데이터 처리"
   ]
  },
  {
   "cell_type": "code",
   "execution_count": 48,
   "id": "f8a65b56",
   "metadata": {},
   "outputs": [
    {
     "data": {
      "text/plain": "Int64Index([537, 655, 731, 3703], dtype='int64')"
     },
     "execution_count": 48,
     "metadata": {},
     "output_type": "execute_result"
    }
   ],
   "source": [
    "non_GS = dataset[dataset['GS_mea_l_1'].isna() | dataset['GS_mea_l_2'].isna() | dataset['GS_mea_l_3'].isna() ]\n",
    "non_GS_index = non_GS.index\n",
    "non_GS_index"
   ]
  },
  {
   "cell_type": "code",
   "execution_count": 49,
   "id": "45d42928",
   "metadata": {},
   "outputs": [
    {
     "data": {
      "text/plain": "Empty DataFrame\nColumns: [ID, sex, age, HE_sbp, HE_dbp, HE_ht, HE_wt, HE_BMI, GS_mea_r_1, GS_mea_r_2, GS_mea_r_3, GS_mea_l_1, GS_mea_l_2, GS_mea_l_3, depression_scale, body_fat]\nIndex: []",
      "text/html": "<div>\n<style scoped>\n    .dataframe tbody tr th:only-of-type {\n        vertical-align: middle;\n    }\n\n    .dataframe tbody tr th {\n        vertical-align: top;\n    }\n\n    .dataframe thead th {\n        text-align: right;\n    }\n</style>\n<table border=\"1\" class=\"dataframe\">\n  <thead>\n    <tr style=\"text-align: right;\">\n      <th></th>\n      <th>ID</th>\n      <th>sex</th>\n      <th>age</th>\n      <th>HE_sbp</th>\n      <th>HE_dbp</th>\n      <th>HE_ht</th>\n      <th>HE_wt</th>\n      <th>HE_BMI</th>\n      <th>GS_mea_r_1</th>\n      <th>GS_mea_r_2</th>\n      <th>GS_mea_r_3</th>\n      <th>GS_mea_l_1</th>\n      <th>GS_mea_l_2</th>\n      <th>GS_mea_l_3</th>\n      <th>depression_scale</th>\n      <th>body_fat</th>\n    </tr>\n  </thead>\n  <tbody>\n  </tbody>\n</table>\n</div>"
     },
     "execution_count": 49,
     "metadata": {},
     "output_type": "execute_result"
    }
   ],
   "source": [
    "# GS_mear_l_* 데이터처리\n",
    "for key in non_GS_index:\n",
    "    check_list = [dataset.loc[key, dataset.columns==value].values[0] for value in ['GS_mea_l_1','GS_mea_l_2','GS_mea_l_3']]\n",
    "    if check_list.count('nan') == 1:\n",
    "        dataset.loc[key, dataset.columns=='GS_mea_l_3'] = (check_list[0] + check_list[1])/2\n",
    "    else:\n",
    "        dataset.loc[key, dataset.columns=='GS_mea_l_2'] = check_list[0]\n",
    "        dataset.loc[key, dataset.columns=='GS_mea_l_3'] = check_list[0]\n",
    "\n",
    "dataset[dataset['GS_mea_l_1'].isna() | dataset['GS_mea_l_2'].isna() | dataset['GS_mea_l_3'].isna() ]  # 결측치 없음 확인"
   ]
  },
  {
   "cell_type": "markdown",
   "id": "aa20b531",
   "metadata": {},
   "source": [
    "평균을 내서, 새로운 열 추가"
   ]
  },
  {
   "cell_type": "markdown",
   "id": "8af517ca",
   "metadata": {},
   "source": [
    "#### 6. 결측치 처리를 끝낸 데이터셋 및 저장"
   ]
  },
  {
   "cell_type": "code",
   "execution_count": 50,
   "id": "3bfc74a0",
   "metadata": {},
   "outputs": [
    {
     "name": "stdout",
     "output_type": "stream",
     "text": [
      "<class 'pandas.core.frame.DataFrame'>\n",
      "Int64Index: 5591 entries, 0 to 7988\n",
      "Data columns (total 16 columns):\n",
      " #   Column            Non-Null Count  Dtype  \n",
      "---  ------            --------------  -----  \n",
      " 0   ID                5591 non-null   object \n",
      " 1   sex               5591 non-null   int64  \n",
      " 2   age               5591 non-null   int64  \n",
      " 3   HE_sbp            5591 non-null   float64\n",
      " 4   HE_dbp            5591 non-null   float64\n",
      " 5   HE_ht             5591 non-null   float64\n",
      " 6   HE_wt             5591 non-null   float64\n",
      " 7   HE_BMI            5591 non-null   float64\n",
      " 8   GS_mea_r_1        5591 non-null   float64\n",
      " 9   GS_mea_r_2        5591 non-null   float64\n",
      " 10  GS_mea_r_3        5591 non-null   float64\n",
      " 11  GS_mea_l_1        5591 non-null   float64\n",
      " 12  GS_mea_l_2        5591 non-null   float64\n",
      " 13  GS_mea_l_3        5591 non-null   float64\n",
      " 14  depression_scale  5591 non-null   int64  \n",
      " 15  body_fat          5591 non-null   float64\n",
      "dtypes: float64(12), int64(3), object(1)\n",
      "memory usage: 871.6+ KB\n"
     ]
    }
   ],
   "source": [
    "dataset.info()"
   ]
  },
  {
   "cell_type": "code",
   "execution_count": 51,
   "id": "5d3d099a",
   "metadata": {},
   "outputs": [],
   "source": [
    "dataset.to_csv('data/preprocessing_hn18.csv')"
   ]
  },
  {
   "cell_type": "code",
   "execution_count": 51,
   "id": "28b3090a",
   "metadata": {},
   "outputs": [],
   "source": []
  }
 ],
 "metadata": {
  "kernelspec": {
   "display_name": "Python 3",
   "language": "python",
   "name": "python3"
  },
  "language_info": {
   "codemirror_mode": {
    "name": "ipython",
    "version": 3
   },
   "file_extension": ".py",
   "mimetype": "text/x-python",
   "name": "python",
   "nbconvert_exporter": "python",
   "pygments_lexer": "ipython3",
   "version": "3.8.8"
  }
 },
 "nbformat": 4,
 "nbformat_minor": 5
}

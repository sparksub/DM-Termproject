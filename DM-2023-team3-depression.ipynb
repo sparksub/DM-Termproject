{
 "cells": [
  {
   "cell_type": "markdown",
   "source": [
    "# 2023 DataMining Team3\n",
    "## 우울팀, Data Preprocessing\n"
   ],
   "metadata": {
    "collapsed": false
   }
  },
  {
   "cell_type": "markdown",
   "source": [
    "### 1. Import Library"
   ],
   "metadata": {
    "collapsed": false
   }
  },
  {
   "cell_type": "code",
   "execution_count": 137,
   "outputs": [],
   "source": [
    "import pandas as pd"
   ],
   "metadata": {
    "collapsed": false
   }
  },
  {
   "cell_type": "markdown",
   "source": [
    "### 2. Data preprocessing"
   ],
   "metadata": {
    "collapsed": false
   }
  },
  {
   "cell_type": "markdown",
   "source": [
    "#### 데이터 불러오기"
   ],
   "metadata": {
    "collapsed": false
   }
  },
  {
   "cell_type": "code",
   "execution_count": 138,
   "outputs": [
    {
     "name": "stderr",
     "output_type": "stream",
     "text": [
      "/Users/subinpark/opt/anaconda3/lib/python3.9/site-packages/IPython/core/interactiveshell.py:3444: DtypeWarning: Columns (146,209,220,274,283,318,339,355,436,555,570,572,587,647) have mixed types.Specify dtype option on import or set low_memory=False.\n",
      "  exec(code_obj, self.user_global_ns, self.user_ns)\n"
     ]
    }
   ],
   "source": [
    "csv_all = pd.read_csv(\"data/hn18_all.csv\")\n",
    "csv_description = pd.read_csv(\"description/hn18_all_description.csv\")"
   ],
   "metadata": {
    "collapsed": false
   }
  },
  {
   "cell_type": "code",
   "execution_count": 139,
   "outputs": [
    {
     "data": {
      "text/plain": "(7992, 815)"
     },
     "execution_count": 139,
     "metadata": {},
     "output_type": "execute_result"
    }
   ],
   "source": [
    "csv_all.shape"
   ],
   "metadata": {
    "collapsed": false
   }
  },
  {
   "cell_type": "code",
   "execution_count": 140,
   "outputs": [
    {
     "data": {
      "text/plain": "Index(['mod_d', 'ID', 'ID_fam', 'year', 'region', 'town_t', 'apt_t', 'psu',\n       'sex', 'age',\n       ...\n       'HEI_TVEG', 'HEI_VEG', 'HEI_PROTF', 'HEI_DAIRY', 'HEI_SFA', 'HEI_NA',\n       'HEI_SWEET', 'HEI_CHO', 'HEI_FAT', 'HEI_EN'],\n      dtype='object', length=815)"
     },
     "execution_count": 140,
     "metadata": {},
     "output_type": "execute_result"
    }
   ],
   "source": [
    "csv_all.columns"
   ],
   "metadata": {
    "collapsed": false,
    "pycharm": {
     "name": "#%%ㄴ\n"
    }
   }
  },
  {
   "cell_type": "code",
   "execution_count": 141,
   "outputs": [
    {
     "data": {
      "text/plain": "           변수명                 변수설명                                내용  \\\n0           ID               개인 아이디                               NaN   \n1          sex                   성별                       1. 남자 2. 여자   \n2          age                만나이1)  1~79. 1~79세 80. 80세이상 (2자리수 int)   \n3     mh_PHQ_S        (성인) PHQ-9 점수         우울증선별도구 9항목(문항3-1~9) 점수 합   \n4       HE_sbp  최종 수축기 혈압(2,3차 평균)                  (3자리수, mmHg, int)   \n5       HE_dbp   최종 이완기 혈압(2,3차 평균)                 (3자리수, mmHg, int)   \n6        HE_ht                   신장                          □□□.□ cm   \n7        HE_wt                   체중                         □□□.□ kg    \n8       HE_BMI          체질량지수 (BMI)                       □□□.□ kg/m2   \n9   GS_mea_r_1          1차 악력측정_오른손                          □□.□ kg    \n10  GS_mea_r_2         2차 악력측정_오른손                           □□.□ kg    \n11  GS_mea_r_3         3차 악력측정_오른손                           □□.□ kg    \n12  GS_mea_l_1           1차 악력측정_왼손                          □□.□ kg    \n13  GS_mea_l_2           2차 악력측정_왼손                          □□.□ kg    \n14  GS_mea_l_3           3차 악력측정_왼손                          □□.□ kg    \n\n   필요한가? (Y/N/Not Sure)      type     단위 비고  \n0                     Y   Nominal      -  V  \n1                     Y   Nominal      -  V  \n2                     Y     Ratio      세  V  \n3                     Y  Interval    NaN  V  \n4                     Y     Ratio   mmHg  V  \n5                     Y     Ratio   mmHg  V  \n6                     Y     Ratio     cm  V  \n7                     Y     Ratio     kg  V  \n8                     Y     Ratio  kg/m2  V  \n9                     Y     Ratio     kg  V  \n10                    Y     Ratio     kg  V  \n11                    Y     Ratio     kg  V  \n12                    Y     Ratio     kg  V  \n13                    Y     Ratio     kg  V  \n14                    Y     Ratio     kg  V  ",
      "text/html": "<div>\n<style scoped>\n    .dataframe tbody tr th:only-of-type {\n        vertical-align: middle;\n    }\n\n    .dataframe tbody tr th {\n        vertical-align: top;\n    }\n\n    .dataframe thead th {\n        text-align: right;\n    }\n</style>\n<table border=\"1\" class=\"dataframe\">\n  <thead>\n    <tr style=\"text-align: right;\">\n      <th></th>\n      <th>변수명</th>\n      <th>변수설명</th>\n      <th>내용</th>\n      <th>필요한가? (Y/N/Not Sure)</th>\n      <th>type</th>\n      <th>단위</th>\n      <th>비고</th>\n    </tr>\n  </thead>\n  <tbody>\n    <tr>\n      <th>0</th>\n      <td>ID</td>\n      <td>개인 아이디</td>\n      <td>NaN</td>\n      <td>Y</td>\n      <td>Nominal</td>\n      <td>-</td>\n      <td>V</td>\n    </tr>\n    <tr>\n      <th>1</th>\n      <td>sex</td>\n      <td>성별</td>\n      <td>1. 남자 2. 여자</td>\n      <td>Y</td>\n      <td>Nominal</td>\n      <td>-</td>\n      <td>V</td>\n    </tr>\n    <tr>\n      <th>2</th>\n      <td>age</td>\n      <td>만나이1)</td>\n      <td>1~79. 1~79세 80. 80세이상 (2자리수 int)</td>\n      <td>Y</td>\n      <td>Ratio</td>\n      <td>세</td>\n      <td>V</td>\n    </tr>\n    <tr>\n      <th>3</th>\n      <td>mh_PHQ_S</td>\n      <td>(성인) PHQ-9 점수</td>\n      <td>우울증선별도구 9항목(문항3-1~9) 점수 합</td>\n      <td>Y</td>\n      <td>Interval</td>\n      <td>NaN</td>\n      <td>V</td>\n    </tr>\n    <tr>\n      <th>4</th>\n      <td>HE_sbp</td>\n      <td>최종 수축기 혈압(2,3차 평균)</td>\n      <td>(3자리수, mmHg, int)</td>\n      <td>Y</td>\n      <td>Ratio</td>\n      <td>mmHg</td>\n      <td>V</td>\n    </tr>\n    <tr>\n      <th>5</th>\n      <td>HE_dbp</td>\n      <td>최종 이완기 혈압(2,3차 평균)</td>\n      <td>(3자리수, mmHg, int)</td>\n      <td>Y</td>\n      <td>Ratio</td>\n      <td>mmHg</td>\n      <td>V</td>\n    </tr>\n    <tr>\n      <th>6</th>\n      <td>HE_ht</td>\n      <td>신장</td>\n      <td>□□□.□ cm</td>\n      <td>Y</td>\n      <td>Ratio</td>\n      <td>cm</td>\n      <td>V</td>\n    </tr>\n    <tr>\n      <th>7</th>\n      <td>HE_wt</td>\n      <td>체중</td>\n      <td>□□□.□ kg</td>\n      <td>Y</td>\n      <td>Ratio</td>\n      <td>kg</td>\n      <td>V</td>\n    </tr>\n    <tr>\n      <th>8</th>\n      <td>HE_BMI</td>\n      <td>체질량지수 (BMI)</td>\n      <td>□□□.□ kg/m2</td>\n      <td>Y</td>\n      <td>Ratio</td>\n      <td>kg/m2</td>\n      <td>V</td>\n    </tr>\n    <tr>\n      <th>9</th>\n      <td>GS_mea_r_1</td>\n      <td>1차 악력측정_오른손</td>\n      <td>□□.□ kg</td>\n      <td>Y</td>\n      <td>Ratio</td>\n      <td>kg</td>\n      <td>V</td>\n    </tr>\n    <tr>\n      <th>10</th>\n      <td>GS_mea_r_2</td>\n      <td>2차 악력측정_오른손</td>\n      <td>□□.□ kg</td>\n      <td>Y</td>\n      <td>Ratio</td>\n      <td>kg</td>\n      <td>V</td>\n    </tr>\n    <tr>\n      <th>11</th>\n      <td>GS_mea_r_3</td>\n      <td>3차 악력측정_오른손</td>\n      <td>□□.□ kg</td>\n      <td>Y</td>\n      <td>Ratio</td>\n      <td>kg</td>\n      <td>V</td>\n    </tr>\n    <tr>\n      <th>12</th>\n      <td>GS_mea_l_1</td>\n      <td>1차 악력측정_왼손</td>\n      <td>□□.□ kg</td>\n      <td>Y</td>\n      <td>Ratio</td>\n      <td>kg</td>\n      <td>V</td>\n    </tr>\n    <tr>\n      <th>13</th>\n      <td>GS_mea_l_2</td>\n      <td>2차 악력측정_왼손</td>\n      <td>□□.□ kg</td>\n      <td>Y</td>\n      <td>Ratio</td>\n      <td>kg</td>\n      <td>V</td>\n    </tr>\n    <tr>\n      <th>14</th>\n      <td>GS_mea_l_3</td>\n      <td>3차 악력측정_왼손</td>\n      <td>□□.□ kg</td>\n      <td>Y</td>\n      <td>Ratio</td>\n      <td>kg</td>\n      <td>V</td>\n    </tr>\n  </tbody>\n</table>\n</div>"
     },
     "execution_count": 141,
     "metadata": {},
     "output_type": "execute_result"
    }
   ],
   "source": [
    "csv_description"
   ],
   "metadata": {
    "collapsed": false
   }
  },
  {
   "cell_type": "code",
   "execution_count": 142,
   "outputs": [
    {
     "name": "stdout",
     "output_type": "stream",
     "text": [
      "['ID', 'sex', 'age', 'mh_PHQ_S', 'HE_sbp', 'HE_dbp', 'HE_ht', 'HE_wt', 'HE_BMI', 'GS_mea_r_1', 'GS_mea_r_2', 'GS_mea_r_3', 'GS_mea_l_1', 'GS_mea_l_2', 'GS_mea_l_3']\n"
     ]
    }
   ],
   "source": [
    "description_columns = csv_description[['변수명']].values.tolist()\n",
    "key_columns = []\n",
    "for i in description_columns:\n",
    "    key_columns.append(i[0])\n",
    "print(key_columns)"
   ],
   "metadata": {
    "collapsed": false
   }
  },
  {
   "cell_type": "markdown",
   "source": [
    "#### 필요한 column만 전체 데이터셋에서 추출"
   ],
   "metadata": {
    "collapsed": false
   }
  },
  {
   "cell_type": "code",
   "execution_count": 143,
   "outputs": [],
   "source": [
    "selected_columns = csv_all[key_columns]"
   ],
   "metadata": {
    "collapsed": false
   }
  },
  {
   "cell_type": "code",
   "execution_count": 144,
   "outputs": [
    {
     "data": {
      "text/plain": "           ID  sex  age  mh_PHQ_S  HE_sbp  HE_dbp  HE_ht  HE_wt     HE_BMI  \\\n0  A701020501    1   80       0.0   150.0    84.0  162.4   56.0  21.233226   \n1  A701021301    1   78       3.0   132.0    77.0  167.7   76.4  27.166096   \n2  A701021302    2   75       2.0   156.0    73.0  157.7   53.2  21.391845   \n3  A701022601    2   43       4.0   102.0    70.0  151.0   53.5  23.463883   \n4  A701023303    2   80       0.0   149.0    81.0  146.1   57.6  26.984977   \n\n   GS_mea_r_1  GS_mea_r_2  GS_mea_r_3  GS_mea_l_1  GS_mea_l_2  GS_mea_l_3  \n0        19.2        22.2        20.0        16.8        18.0        19.6  \n1        40.5        38.2        40.0        35.9        37.2        39.2  \n2        15.3        17.4        15.3        10.3        10.7        10.4  \n3        24.8        24.5        23.8        19.2        19.9        22.6  \n4         8.6        13.5        16.1        14.6        13.4        15.0  ",
      "text/html": "<div>\n<style scoped>\n    .dataframe tbody tr th:only-of-type {\n        vertical-align: middle;\n    }\n\n    .dataframe tbody tr th {\n        vertical-align: top;\n    }\n\n    .dataframe thead th {\n        text-align: right;\n    }\n</style>\n<table border=\"1\" class=\"dataframe\">\n  <thead>\n    <tr style=\"text-align: right;\">\n      <th></th>\n      <th>ID</th>\n      <th>sex</th>\n      <th>age</th>\n      <th>mh_PHQ_S</th>\n      <th>HE_sbp</th>\n      <th>HE_dbp</th>\n      <th>HE_ht</th>\n      <th>HE_wt</th>\n      <th>HE_BMI</th>\n      <th>GS_mea_r_1</th>\n      <th>GS_mea_r_2</th>\n      <th>GS_mea_r_3</th>\n      <th>GS_mea_l_1</th>\n      <th>GS_mea_l_2</th>\n      <th>GS_mea_l_3</th>\n    </tr>\n  </thead>\n  <tbody>\n    <tr>\n      <th>0</th>\n      <td>A701020501</td>\n      <td>1</td>\n      <td>80</td>\n      <td>0.0</td>\n      <td>150.0</td>\n      <td>84.0</td>\n      <td>162.4</td>\n      <td>56.0</td>\n      <td>21.233226</td>\n      <td>19.2</td>\n      <td>22.2</td>\n      <td>20.0</td>\n      <td>16.8</td>\n      <td>18.0</td>\n      <td>19.6</td>\n    </tr>\n    <tr>\n      <th>1</th>\n      <td>A701021301</td>\n      <td>1</td>\n      <td>78</td>\n      <td>3.0</td>\n      <td>132.0</td>\n      <td>77.0</td>\n      <td>167.7</td>\n      <td>76.4</td>\n      <td>27.166096</td>\n      <td>40.5</td>\n      <td>38.2</td>\n      <td>40.0</td>\n      <td>35.9</td>\n      <td>37.2</td>\n      <td>39.2</td>\n    </tr>\n    <tr>\n      <th>2</th>\n      <td>A701021302</td>\n      <td>2</td>\n      <td>75</td>\n      <td>2.0</td>\n      <td>156.0</td>\n      <td>73.0</td>\n      <td>157.7</td>\n      <td>53.2</td>\n      <td>21.391845</td>\n      <td>15.3</td>\n      <td>17.4</td>\n      <td>15.3</td>\n      <td>10.3</td>\n      <td>10.7</td>\n      <td>10.4</td>\n    </tr>\n    <tr>\n      <th>3</th>\n      <td>A701022601</td>\n      <td>2</td>\n      <td>43</td>\n      <td>4.0</td>\n      <td>102.0</td>\n      <td>70.0</td>\n      <td>151.0</td>\n      <td>53.5</td>\n      <td>23.463883</td>\n      <td>24.8</td>\n      <td>24.5</td>\n      <td>23.8</td>\n      <td>19.2</td>\n      <td>19.9</td>\n      <td>22.6</td>\n    </tr>\n    <tr>\n      <th>4</th>\n      <td>A701023303</td>\n      <td>2</td>\n      <td>80</td>\n      <td>0.0</td>\n      <td>149.0</td>\n      <td>81.0</td>\n      <td>146.1</td>\n      <td>57.6</td>\n      <td>26.984977</td>\n      <td>8.6</td>\n      <td>13.5</td>\n      <td>16.1</td>\n      <td>14.6</td>\n      <td>13.4</td>\n      <td>15.0</td>\n    </tr>\n  </tbody>\n</table>\n</div>"
     },
     "execution_count": 144,
     "metadata": {},
     "output_type": "execute_result"
    }
   ],
   "source": [
    "selected_columns.head()"
   ],
   "metadata": {
    "collapsed": false
   }
  },
  {
   "cell_type": "markdown",
   "source": [
    "#### 데이터셋 결측치 확인 및 제거"
   ],
   "metadata": {
    "collapsed": false
   }
  },
  {
   "cell_type": "code",
   "execution_count": 145,
   "outputs": [
    {
     "name": "stdout",
     "output_type": "stream",
     "text": [
      "<class 'pandas.core.frame.DataFrame'>\n",
      "RangeIndex: 7992 entries, 0 to 7991\n",
      "Data columns (total 15 columns):\n",
      " #   Column      Non-Null Count  Dtype  \n",
      "---  ------      --------------  -----  \n",
      " 0   ID          7992 non-null   object \n",
      " 1   sex         7992 non-null   int64  \n",
      " 2   age         7992 non-null   int64  \n",
      " 3   mh_PHQ_S    5918 non-null   float64\n",
      " 4   HE_sbp      6847 non-null   float64\n",
      " 5   HE_dbp      6847 non-null   float64\n",
      " 6   HE_ht       7593 non-null   float64\n",
      " 7   HE_wt       7635 non-null   float64\n",
      " 8   HE_BMI      7591 non-null   float64\n",
      " 9   GS_mea_r_1  6630 non-null   float64\n",
      " 10  GS_mea_r_2  6628 non-null   float64\n",
      " 11  GS_mea_r_3  6626 non-null   float64\n",
      " 12  GS_mea_l_1  6641 non-null   float64\n",
      " 13  GS_mea_l_2  6639 non-null   float64\n",
      " 14  GS_mea_l_3  6637 non-null   float64\n",
      "dtypes: float64(12), int64(2), object(1)\n",
      "memory usage: 936.7+ KB\n"
     ]
    }
   ],
   "source": [
    "selected_columns.info()"
   ],
   "metadata": {
    "collapsed": false
   }
  },
  {
   "cell_type": "markdown",
   "source": [
    "총 7992개의 데이터셋에서 demographics에 해당하는 attribute (ID, sex, age)를 제외하고 전부 결측치가 있음을 확인."
   ],
   "metadata": {
    "collapsed": false
   }
  },
  {
   "cell_type": "markdown",
   "source": [
    "##### 1. mh_PHQ_S: 본 프로젝트에서 key attribute에 해당하는 값이기 때문에, 결측치가 있는 데이터는 그냥 제거"
   ],
   "metadata": {
    "collapsed": false
   }
  },
  {
   "cell_type": "code",
   "execution_count": 146,
   "outputs": [
    {
     "data": {
      "text/plain": "Empty DataFrame\nColumns: [ID, sex, age, mh_PHQ_S, HE_sbp, HE_dbp, HE_ht, HE_wt, HE_BMI, GS_mea_r_1, GS_mea_r_2, GS_mea_r_3, GS_mea_l_1, GS_mea_l_2, GS_mea_l_3]\nIndex: []",
      "text/html": "<div>\n<style scoped>\n    .dataframe tbody tr th:only-of-type {\n        vertical-align: middle;\n    }\n\n    .dataframe tbody tr th {\n        vertical-align: top;\n    }\n\n    .dataframe thead th {\n        text-align: right;\n    }\n</style>\n<table border=\"1\" class=\"dataframe\">\n  <thead>\n    <tr style=\"text-align: right;\">\n      <th></th>\n      <th>ID</th>\n      <th>sex</th>\n      <th>age</th>\n      <th>mh_PHQ_S</th>\n      <th>HE_sbp</th>\n      <th>HE_dbp</th>\n      <th>HE_ht</th>\n      <th>HE_wt</th>\n      <th>HE_BMI</th>\n      <th>GS_mea_r_1</th>\n      <th>GS_mea_r_2</th>\n      <th>GS_mea_r_3</th>\n      <th>GS_mea_l_1</th>\n      <th>GS_mea_l_2</th>\n      <th>GS_mea_l_3</th>\n    </tr>\n  </thead>\n  <tbody>\n  </tbody>\n</table>\n</div>"
     },
     "execution_count": 146,
     "metadata": {},
     "output_type": "execute_result"
    }
   ],
   "source": [
    "dataset = selected_columns.dropna(subset=['mh_PHQ_S'])\n",
    "dataset.loc[dataset['mh_PHQ_S'].isna()] # 결측치 데이터 없음"
   ],
   "metadata": {
    "collapsed": false
   }
  },
  {
   "cell_type": "markdown",
   "source": [
    "##### 2. HE_sbp, HE_dbp: 측정 값이 있으면 두 데이터 모두 존재 하는 것으로 보임. 혈압은 다른 데이터로 유추할 수 없기 때문에 그냥 제거"
   ],
   "metadata": {
    "collapsed": false
   }
  },
  {
   "cell_type": "code",
   "execution_count": 147,
   "outputs": [
    {
     "data": {
      "text/plain": "Empty DataFrame\nColumns: [ID, sex, age, mh_PHQ_S, HE_sbp, HE_dbp, HE_ht, HE_wt, HE_BMI, GS_mea_r_1, GS_mea_r_2, GS_mea_r_3, GS_mea_l_1, GS_mea_l_2, GS_mea_l_3]\nIndex: []",
      "text/html": "<div>\n<style scoped>\n    .dataframe tbody tr th:only-of-type {\n        vertical-align: middle;\n    }\n\n    .dataframe tbody tr th {\n        vertical-align: top;\n    }\n\n    .dataframe thead th {\n        text-align: right;\n    }\n</style>\n<table border=\"1\" class=\"dataframe\">\n  <thead>\n    <tr style=\"text-align: right;\">\n      <th></th>\n      <th>ID</th>\n      <th>sex</th>\n      <th>age</th>\n      <th>mh_PHQ_S</th>\n      <th>HE_sbp</th>\n      <th>HE_dbp</th>\n      <th>HE_ht</th>\n      <th>HE_wt</th>\n      <th>HE_BMI</th>\n      <th>GS_mea_r_1</th>\n      <th>GS_mea_r_2</th>\n      <th>GS_mea_r_3</th>\n      <th>GS_mea_l_1</th>\n      <th>GS_mea_l_2</th>\n      <th>GS_mea_l_3</th>\n    </tr>\n  </thead>\n  <tbody>\n  </tbody>\n</table>\n</div>"
     },
     "execution_count": 147,
     "metadata": {},
     "output_type": "execute_result"
    }
   ],
   "source": [
    "dataset = dataset.dropna(subset=['HE_sbp','HE_dbp'])\n",
    "dataset.loc[dataset['HE_sbp'].isna()] # 결측치 데이터 없음 확인"
   ],
   "metadata": {
    "collapsed": false
   }
  },
  {
   "cell_type": "code",
   "execution_count": 148,
   "outputs": [
    {
     "name": "stdout",
     "output_type": "stream",
     "text": [
      "<class 'pandas.core.frame.DataFrame'>\n",
      "Int64Index: 5889 entries, 0 to 7988\n",
      "Data columns (total 15 columns):\n",
      " #   Column      Non-Null Count  Dtype  \n",
      "---  ------      --------------  -----  \n",
      " 0   ID          5889 non-null   object \n",
      " 1   sex         5889 non-null   int64  \n",
      " 2   age         5889 non-null   int64  \n",
      " 3   mh_PHQ_S    5889 non-null   float64\n",
      " 4   HE_sbp      5889 non-null   float64\n",
      " 5   HE_dbp      5889 non-null   float64\n",
      " 6   HE_ht       5849 non-null   float64\n",
      " 7   HE_wt       5883 non-null   float64\n",
      " 8   HE_BMI      5847 non-null   float64\n",
      " 9   GS_mea_r_1  5699 non-null   float64\n",
      " 10  GS_mea_r_2  5697 non-null   float64\n",
      " 11  GS_mea_r_3  5695 non-null   float64\n",
      " 12  GS_mea_l_1  5700 non-null   float64\n",
      " 13  GS_mea_l_2  5698 non-null   float64\n",
      " 14  GS_mea_l_3  5696 non-null   float64\n",
      "dtypes: float64(12), int64(2), object(1)\n",
      "memory usage: 736.1+ KB\n"
     ]
    }
   ],
   "source": [
    "dataset.info()"
   ],
   "metadata": {
    "collapsed": false
   }
  },
  {
   "cell_type": "markdown",
   "source": [
    "##### 3. HE_ht, HE_wt, HE_BMI: HE_ht, HE_wt가 둘다 있으면 HE_BMI를 계산할 수 있음.\n",
    " HE_ht, HE_wt 둘중 하나라도 결측치가 있으면 제거, 이후에 HE_BMI 결측치의 경우, HE_ht와 HE_wt를 활용해 아래 식으로 계산하여 채우기\n",
    "$$ BMI = \\frac {wt} {ht^2} $$"
   ],
   "metadata": {
    "collapsed": false
   }
  },
  {
   "cell_type": "code",
   "execution_count": 149,
   "outputs": [
    {
     "data": {
      "text/plain": "Empty DataFrame\nColumns: [ID, sex, age, mh_PHQ_S, HE_sbp, HE_dbp, HE_ht, HE_wt, HE_BMI, GS_mea_r_1, GS_mea_r_2, GS_mea_r_3, GS_mea_l_1, GS_mea_l_2, GS_mea_l_3]\nIndex: []",
      "text/html": "<div>\n<style scoped>\n    .dataframe tbody tr th:only-of-type {\n        vertical-align: middle;\n    }\n\n    .dataframe tbody tr th {\n        vertical-align: top;\n    }\n\n    .dataframe thead th {\n        text-align: right;\n    }\n</style>\n<table border=\"1\" class=\"dataframe\">\n  <thead>\n    <tr style=\"text-align: right;\">\n      <th></th>\n      <th>ID</th>\n      <th>sex</th>\n      <th>age</th>\n      <th>mh_PHQ_S</th>\n      <th>HE_sbp</th>\n      <th>HE_dbp</th>\n      <th>HE_ht</th>\n      <th>HE_wt</th>\n      <th>HE_BMI</th>\n      <th>GS_mea_r_1</th>\n      <th>GS_mea_r_2</th>\n      <th>GS_mea_r_3</th>\n      <th>GS_mea_l_1</th>\n      <th>GS_mea_l_2</th>\n      <th>GS_mea_l_3</th>\n    </tr>\n  </thead>\n  <tbody>\n  </tbody>\n</table>\n</div>"
     },
     "execution_count": 149,
     "metadata": {},
     "output_type": "execute_result"
    }
   ],
   "source": [
    "dataset = dataset.dropna(subset=['HE_ht','HE_wt'])\n",
    "dataset.loc[dataset['HE_BMI'].isna()] # 결측치 데이터 없음 확인"
   ],
   "metadata": {
    "collapsed": false
   }
  },
  {
   "cell_type": "code",
   "execution_count": 150,
   "outputs": [
    {
     "name": "stdout",
     "output_type": "stream",
     "text": [
      "<class 'pandas.core.frame.DataFrame'>\n",
      "Int64Index: 5847 entries, 0 to 7988\n",
      "Data columns (total 15 columns):\n",
      " #   Column      Non-Null Count  Dtype  \n",
      "---  ------      --------------  -----  \n",
      " 0   ID          5847 non-null   object \n",
      " 1   sex         5847 non-null   int64  \n",
      " 2   age         5847 non-null   int64  \n",
      " 3   mh_PHQ_S    5847 non-null   float64\n",
      " 4   HE_sbp      5847 non-null   float64\n",
      " 5   HE_dbp      5847 non-null   float64\n",
      " 6   HE_ht       5847 non-null   float64\n",
      " 7   HE_wt       5847 non-null   float64\n",
      " 8   HE_BMI      5847 non-null   float64\n",
      " 9   GS_mea_r_1  5665 non-null   float64\n",
      " 10  GS_mea_r_2  5663 non-null   float64\n",
      " 11  GS_mea_r_3  5661 non-null   float64\n",
      " 12  GS_mea_l_1  5663 non-null   float64\n",
      " 13  GS_mea_l_2  5661 non-null   float64\n",
      " 14  GS_mea_l_3  5659 non-null   float64\n",
      "dtypes: float64(12), int64(2), object(1)\n",
      "memory usage: 730.9+ KB\n"
     ]
    }
   ],
   "source": [
    "dataset.info()"
   ],
   "metadata": {
    "collapsed": false
   }
  },
  {
   "cell_type": "markdown",
   "source": [
    " HE_ht, HE_wt, HE_BMI의 데이터 수가 모두 동일함으로 추가적인 결측치 처리 없음"
   ],
   "metadata": {
    "collapsed": false
   }
  },
  {
   "cell_type": "markdown",
   "source": [
    "##### 4. GS_mea_r_#, GS_mea_l_#: 3차례에 걸친 악력 측정이므로 평균값을 내서 사용할 것.\n",
    "\n",
    "1) 만약 3개 attribute 값이 전부 결측치이면 데이터 삭제\n",
    "2) 3개 중 하나라도 값이 존재한다면 나머지 값을 하나의 값으로 채우기\n",
    "3) 3개 중 값이 두 개 존재한다면 나머지 값을 두 개의 평균으로 채우기"
   ],
   "metadata": {
    "collapsed": false
   }
  },
  {
   "cell_type": "markdown",
   "source": [
    "결측치 확인"
   ],
   "metadata": {
    "collapsed": false
   }
  },
  {
   "cell_type": "code",
   "execution_count": 151,
   "outputs": [
    {
     "data": {
      "text/plain": "              ID  sex  age  mh_PHQ_S  HE_sbp  HE_dbp  HE_ht  HE_wt     HE_BMI  \\\n537   A714032302    2   46       4.0   114.0    78.0  160.6   56.8  22.022025   \n655   A717026602    2   33       0.0   112.0    82.0  169.9   57.6  19.954265   \n731   A720022102    2   58      16.0   136.0    93.0  160.3   60.1  23.388772   \n2439  D701024701    1   58       0.0   128.0    84.0  163.8   82.0  30.562302   \n3703  H703029102    2   46       2.0   106.0    69.0  153.2   56.7  24.158253   \n3957  H708029503    1   23       0.0   101.0    78.0  181.8   66.0  19.968994   \n4454  H719028603    2   26       4.0   109.0    79.0  167.7   67.4  23.965902   \n\n      GS_mea_r_1  GS_mea_r_2  GS_mea_r_3  GS_mea_l_1  GS_mea_l_2  GS_mea_l_3  \n537         17.0        14.1        10.9        15.6         9.9         NaN  \n655         22.1        21.0        22.9        18.7         NaN         NaN  \n731         21.1        19.6         NaN        21.0        19.4         NaN  \n2439        40.9         NaN         NaN        42.9        42.0        41.8  \n3703        17.6        18.7        21.2        12.0         NaN         NaN  \n3957        32.1         NaN         NaN        42.0        39.9        42.7  \n4454        23.9        25.8         NaN        19.4        20.1        21.1  ",
      "text/html": "<div>\n<style scoped>\n    .dataframe tbody tr th:only-of-type {\n        vertical-align: middle;\n    }\n\n    .dataframe tbody tr th {\n        vertical-align: top;\n    }\n\n    .dataframe thead th {\n        text-align: right;\n    }\n</style>\n<table border=\"1\" class=\"dataframe\">\n  <thead>\n    <tr style=\"text-align: right;\">\n      <th></th>\n      <th>ID</th>\n      <th>sex</th>\n      <th>age</th>\n      <th>mh_PHQ_S</th>\n      <th>HE_sbp</th>\n      <th>HE_dbp</th>\n      <th>HE_ht</th>\n      <th>HE_wt</th>\n      <th>HE_BMI</th>\n      <th>GS_mea_r_1</th>\n      <th>GS_mea_r_2</th>\n      <th>GS_mea_r_3</th>\n      <th>GS_mea_l_1</th>\n      <th>GS_mea_l_2</th>\n      <th>GS_mea_l_3</th>\n    </tr>\n  </thead>\n  <tbody>\n    <tr>\n      <th>537</th>\n      <td>A714032302</td>\n      <td>2</td>\n      <td>46</td>\n      <td>4.0</td>\n      <td>114.0</td>\n      <td>78.0</td>\n      <td>160.6</td>\n      <td>56.8</td>\n      <td>22.022025</td>\n      <td>17.0</td>\n      <td>14.1</td>\n      <td>10.9</td>\n      <td>15.6</td>\n      <td>9.9</td>\n      <td>NaN</td>\n    </tr>\n    <tr>\n      <th>655</th>\n      <td>A717026602</td>\n      <td>2</td>\n      <td>33</td>\n      <td>0.0</td>\n      <td>112.0</td>\n      <td>82.0</td>\n      <td>169.9</td>\n      <td>57.6</td>\n      <td>19.954265</td>\n      <td>22.1</td>\n      <td>21.0</td>\n      <td>22.9</td>\n      <td>18.7</td>\n      <td>NaN</td>\n      <td>NaN</td>\n    </tr>\n    <tr>\n      <th>731</th>\n      <td>A720022102</td>\n      <td>2</td>\n      <td>58</td>\n      <td>16.0</td>\n      <td>136.0</td>\n      <td>93.0</td>\n      <td>160.3</td>\n      <td>60.1</td>\n      <td>23.388772</td>\n      <td>21.1</td>\n      <td>19.6</td>\n      <td>NaN</td>\n      <td>21.0</td>\n      <td>19.4</td>\n      <td>NaN</td>\n    </tr>\n    <tr>\n      <th>2439</th>\n      <td>D701024701</td>\n      <td>1</td>\n      <td>58</td>\n      <td>0.0</td>\n      <td>128.0</td>\n      <td>84.0</td>\n      <td>163.8</td>\n      <td>82.0</td>\n      <td>30.562302</td>\n      <td>40.9</td>\n      <td>NaN</td>\n      <td>NaN</td>\n      <td>42.9</td>\n      <td>42.0</td>\n      <td>41.8</td>\n    </tr>\n    <tr>\n      <th>3703</th>\n      <td>H703029102</td>\n      <td>2</td>\n      <td>46</td>\n      <td>2.0</td>\n      <td>106.0</td>\n      <td>69.0</td>\n      <td>153.2</td>\n      <td>56.7</td>\n      <td>24.158253</td>\n      <td>17.6</td>\n      <td>18.7</td>\n      <td>21.2</td>\n      <td>12.0</td>\n      <td>NaN</td>\n      <td>NaN</td>\n    </tr>\n    <tr>\n      <th>3957</th>\n      <td>H708029503</td>\n      <td>1</td>\n      <td>23</td>\n      <td>0.0</td>\n      <td>101.0</td>\n      <td>78.0</td>\n      <td>181.8</td>\n      <td>66.0</td>\n      <td>19.968994</td>\n      <td>32.1</td>\n      <td>NaN</td>\n      <td>NaN</td>\n      <td>42.0</td>\n      <td>39.9</td>\n      <td>42.7</td>\n    </tr>\n    <tr>\n      <th>4454</th>\n      <td>H719028603</td>\n      <td>2</td>\n      <td>26</td>\n      <td>4.0</td>\n      <td>109.0</td>\n      <td>79.0</td>\n      <td>167.7</td>\n      <td>67.4</td>\n      <td>23.965902</td>\n      <td>23.9</td>\n      <td>25.8</td>\n      <td>NaN</td>\n      <td>19.4</td>\n      <td>20.1</td>\n      <td>21.1</td>\n    </tr>\n  </tbody>\n</table>\n</div>"
     },
     "execution_count": 151,
     "metadata": {},
     "output_type": "execute_result"
    }
   ],
   "source": [
    "dataset = dataset.dropna(subset=['GS_mea_r_1','GS_mea_r_2','GS_mea_r_3'], how='all')\n",
    "dataset = dataset.dropna(subset=['GS_mea_l_1','GS_mea_l_2','GS_mea_l_3'], how='all')\n",
    "dataset.loc[dataset['GS_mea_r_1'].isna() | dataset['GS_mea_r_2'].isna() | dataset['GS_mea_r_3'].isna()\n",
    " | dataset['GS_mea_l_1'].isna() | dataset['GS_mea_l_2'].isna() | dataset['GS_mea_l_3'].isna()]"
   ],
   "metadata": {
    "collapsed": false
   }
  },
  {
   "cell_type": "markdown",
   "source": [
    "GS_mear_r_# 데이터 처리"
   ],
   "metadata": {
    "collapsed": false
   }
  },
  {
   "cell_type": "code",
   "execution_count": 152,
   "outputs": [],
   "source": [
    "non_GS = dataset[dataset['GS_mea_r_1'].isna() | dataset['GS_mea_r_2'].isna() | dataset['GS_mea_r_3'].isna() ]"
   ],
   "metadata": {
    "collapsed": false
   }
  },
  {
   "cell_type": "code",
   "execution_count": 153,
   "outputs": [
    {
     "data": {
      "text/plain": "Int64Index([731, 2439, 3957, 4454], dtype='int64')"
     },
     "execution_count": 153,
     "metadata": {},
     "output_type": "execute_result"
    }
   ],
   "source": [
    "non_GS_index = non_GS.index # 결측치 남아 있는 데이터의 인덱스 값 추출\n",
    "non_GS_index"
   ],
   "metadata": {
    "collapsed": false
   }
  },
  {
   "cell_type": "code",
   "execution_count": 154,
   "outputs": [
    {
     "data": {
      "text/plain": "Empty DataFrame\nColumns: [ID, sex, age, mh_PHQ_S, HE_sbp, HE_dbp, HE_ht, HE_wt, HE_BMI, GS_mea_r_1, GS_mea_r_2, GS_mea_r_3, GS_mea_l_1, GS_mea_l_2, GS_mea_l_3]\nIndex: []",
      "text/html": "<div>\n<style scoped>\n    .dataframe tbody tr th:only-of-type {\n        vertical-align: middle;\n    }\n\n    .dataframe tbody tr th {\n        vertical-align: top;\n    }\n\n    .dataframe thead th {\n        text-align: right;\n    }\n</style>\n<table border=\"1\" class=\"dataframe\">\n  <thead>\n    <tr style=\"text-align: right;\">\n      <th></th>\n      <th>ID</th>\n      <th>sex</th>\n      <th>age</th>\n      <th>mh_PHQ_S</th>\n      <th>HE_sbp</th>\n      <th>HE_dbp</th>\n      <th>HE_ht</th>\n      <th>HE_wt</th>\n      <th>HE_BMI</th>\n      <th>GS_mea_r_1</th>\n      <th>GS_mea_r_2</th>\n      <th>GS_mea_r_3</th>\n      <th>GS_mea_l_1</th>\n      <th>GS_mea_l_2</th>\n      <th>GS_mea_l_3</th>\n    </tr>\n  </thead>\n  <tbody>\n  </tbody>\n</table>\n</div>"
     },
     "execution_count": 154,
     "metadata": {},
     "output_type": "execute_result"
    }
   ],
   "source": [
    "for key in non_GS_index:\n",
    "    check_list = [dataset.loc[key, dataset.columns==value].values[0] for value in ['GS_mea_r_1','GS_mea_r_2','GS_mea_r_3']]\n",
    "    if check_list.count('nan') == 1:\n",
    "        dataset.loc[key, dataset.columns=='GS_mea_r_3'] = (check_list[0] + check_list[1])/2\n",
    "    else:\n",
    "        dataset.loc[key, dataset.columns=='GS_mea_r_2'] = check_list[0]\n",
    "        dataset.loc[key, dataset.columns=='GS_mea_r_3'] = check_list[0]\n",
    "\n",
    "dataset[dataset['GS_mea_r_1'].isna() | dataset['GS_mea_r_2'].isna() | dataset['GS_mea_r_3'].isna() ] # 결측치 없음 확인"
   ],
   "metadata": {
    "collapsed": false
   }
  },
  {
   "cell_type": "markdown",
   "source": [
    "GS_mea_l_# 데이터 처리"
   ],
   "metadata": {
    "collapsed": false
   }
  },
  {
   "cell_type": "code",
   "execution_count": 155,
   "outputs": [
    {
     "data": {
      "text/plain": "Int64Index([537, 655, 731, 3703], dtype='int64')"
     },
     "execution_count": 155,
     "metadata": {},
     "output_type": "execute_result"
    }
   ],
   "source": [
    "non_GS = dataset[dataset['GS_mea_l_1'].isna() | dataset['GS_mea_l_2'].isna() | dataset['GS_mea_l_3'].isna() ]\n",
    "non_GS_index = non_GS.index\n",
    "non_GS_index"
   ],
   "metadata": {
    "collapsed": false
   }
  },
  {
   "cell_type": "code",
   "execution_count": 156,
   "outputs": [
    {
     "data": {
      "text/plain": "Empty DataFrame\nColumns: [ID, sex, age, mh_PHQ_S, HE_sbp, HE_dbp, HE_ht, HE_wt, HE_BMI, GS_mea_r_1, GS_mea_r_2, GS_mea_r_3, GS_mea_l_1, GS_mea_l_2, GS_mea_l_3]\nIndex: []",
      "text/html": "<div>\n<style scoped>\n    .dataframe tbody tr th:only-of-type {\n        vertical-align: middle;\n    }\n\n    .dataframe tbody tr th {\n        vertical-align: top;\n    }\n\n    .dataframe thead th {\n        text-align: right;\n    }\n</style>\n<table border=\"1\" class=\"dataframe\">\n  <thead>\n    <tr style=\"text-align: right;\">\n      <th></th>\n      <th>ID</th>\n      <th>sex</th>\n      <th>age</th>\n      <th>mh_PHQ_S</th>\n      <th>HE_sbp</th>\n      <th>HE_dbp</th>\n      <th>HE_ht</th>\n      <th>HE_wt</th>\n      <th>HE_BMI</th>\n      <th>GS_mea_r_1</th>\n      <th>GS_mea_r_2</th>\n      <th>GS_mea_r_3</th>\n      <th>GS_mea_l_1</th>\n      <th>GS_mea_l_2</th>\n      <th>GS_mea_l_3</th>\n    </tr>\n  </thead>\n  <tbody>\n  </tbody>\n</table>\n</div>"
     },
     "execution_count": 156,
     "metadata": {},
     "output_type": "execute_result"
    }
   ],
   "source": [
    "# GS_mear_l_* 데이터처리\n",
    "for key in non_GS_index:\n",
    "    check_list = [dataset.loc[key, dataset.columns==value].values[0] for value in ['GS_mea_l_1','GS_mea_l_2','GS_mea_l_3']]\n",
    "    if check_list.count('nan') == 1:\n",
    "        dataset.loc[key, dataset.columns=='GS_mea_l_3'] = (check_list[0] + check_list[1])/2\n",
    "    else:\n",
    "        dataset.loc[key, dataset.columns=='GS_mea_l_2'] = check_list[0]\n",
    "        dataset.loc[key, dataset.columns=='GS_mea_l_3'] = check_list[0]\n",
    "\n",
    "dataset[dataset['GS_mea_l_1'].isna() | dataset['GS_mea_l_2'].isna() | dataset['GS_mea_l_3'].isna() ]  # 결측치 없음 확인"
   ],
   "metadata": {
    "collapsed": false
   }
  },
  {
   "cell_type": "markdown",
   "source": [
    "평균을 내서, 새로운 열 추가"
   ],
   "metadata": {
    "collapsed": false
   }
  },
  {
   "cell_type": "code",
   "execution_count": 157,
   "outputs": [],
   "source": [
    "dataset['GS_mea_r'] = (dataset['GS_mea_r_1'] + dataset['GS_mea_r_2'] + dataset['GS_mea_r_3'] ) / 3\n",
    "dataset['GS_mea_l'] = (dataset['GS_mea_l_1'] + dataset['GS_mea_l_2'] + dataset['GS_mea_l_3'] ) / 3"
   ],
   "metadata": {
    "collapsed": false
   }
  },
  {
   "cell_type": "markdown",
   "source": [
    "##### 5. 결측치 처리를 끝낸 데이터셋 및 저장"
   ],
   "metadata": {
    "collapsed": false
   }
  },
  {
   "cell_type": "code",
   "execution_count": 158,
   "outputs": [
    {
     "name": "stdout",
     "output_type": "stream",
     "text": [
      "<class 'pandas.core.frame.DataFrame'>\n",
      "Int64Index: 5591 entries, 0 to 7988\n",
      "Data columns (total 17 columns):\n",
      " #   Column      Non-Null Count  Dtype  \n",
      "---  ------      --------------  -----  \n",
      " 0   ID          5591 non-null   object \n",
      " 1   sex         5591 non-null   int64  \n",
      " 2   age         5591 non-null   int64  \n",
      " 3   mh_PHQ_S    5591 non-null   float64\n",
      " 4   HE_sbp      5591 non-null   float64\n",
      " 5   HE_dbp      5591 non-null   float64\n",
      " 6   HE_ht       5591 non-null   float64\n",
      " 7   HE_wt       5591 non-null   float64\n",
      " 8   HE_BMI      5591 non-null   float64\n",
      " 9   GS_mea_r_1  5591 non-null   float64\n",
      " 10  GS_mea_r_2  5591 non-null   float64\n",
      " 11  GS_mea_r_3  5591 non-null   float64\n",
      " 12  GS_mea_l_1  5591 non-null   float64\n",
      " 13  GS_mea_l_2  5591 non-null   float64\n",
      " 14  GS_mea_l_3  5591 non-null   float64\n",
      " 15  GS_mea_r    5591 non-null   float64\n",
      " 16  GS_mea_l    5591 non-null   float64\n",
      "dtypes: float64(14), int64(2), object(1)\n",
      "memory usage: 915.3+ KB\n"
     ]
    }
   ],
   "source": [
    "dataset.info()"
   ],
   "metadata": {
    "collapsed": false
   }
  },
  {
   "cell_type": "code",
   "execution_count": 159,
   "outputs": [],
   "source": [
    "dataset.to_csv('data/preprocessing_hn18.csv')"
   ],
   "metadata": {
    "collapsed": false
   }
  },
  {
   "cell_type": "code",
   "execution_count": 159,
   "outputs": [],
   "source": [],
   "metadata": {
    "collapsed": false
   }
  }
 ],
 "metadata": {
  "kernelspec": {
   "display_name": "Python 3",
   "language": "python",
   "name": "python3"
  },
  "language_info": {
   "codemirror_mode": {
    "name": "ipython",
    "version": 2
   },
   "file_extension": ".py",
   "mimetype": "text/x-python",
   "name": "python",
   "nbconvert_exporter": "python",
   "pygments_lexer": "ipython2",
   "version": "2.7.6"
  }
 },
 "nbformat": 4,
 "nbformat_minor": 0
}
